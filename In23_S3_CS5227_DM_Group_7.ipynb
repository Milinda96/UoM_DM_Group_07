{
  "cells": [
    {
      "cell_type": "markdown",
      "metadata": {
        "id": "suBjkWd1i63L"
      },
      "source": [
        "1. Objective: To identify fuel-efficient model"
      ]
    },
    {
      "cell_type": "markdown",
      "metadata": {
        "id": "zUXTDAUqjyk_"
      },
      "source": [
        "Apply pattern mining techniques to determine the best vehicle model with the lowest combined fuel consumption in L/100 km for the years 2020-2022."
      ]
    },
    {
      "cell_type": "code",
      "execution_count": null,
      "metadata": {
        "id": "QbajbGSbxV0q"
      },
      "outputs": [],
      "source": [
        "#Importing requied libraries\n",
        "import pandas as pd\n",
        "import numpy as np\n",
        "import matplotlib.pyplot as plt\n",
        "import seaborn as sns\n",
        "%matplotlib inline"
      ]
    },
    {
      "cell_type": "code",
      "execution_count": null,
      "metadata": {
        "id": "AtXAR7BzygF3"
      },
      "outputs": [],
      "source": [
        "#Reading the dataset\n",
        "data=pd.read_csv('Fuel_Consumption_2000-2022.csv')"
      ]
    },
    {
      "cell_type": "code",
      "execution_count": null,
      "metadata": {
        "colab": {
          "base_uri": "https://localhost:8080/"
        },
        "id": "0jDgbe9ny0z4",
        "outputId": "f6526a91-95e7-4476-fdc2-2143ebe7ce38"
      },
      "outputs": [
        {
          "data": {
            "text/plain": [
              "(22556, 13)"
            ]
          },
          "execution_count": 3,
          "metadata": {},
          "output_type": "execute_result"
        }
      ],
      "source": [
        "data.shape"
      ]
    },
    {
      "cell_type": "code",
      "execution_count": null,
      "metadata": {
        "colab": {
          "base_uri": "https://localhost:8080/"
        },
        "id": "ggAw5NWwy3Lp",
        "outputId": "f5470fc3-33b8-4e2f-ded8-c21a54d00fd3"
      },
      "outputs": [
        {
          "name": "stdout",
          "output_type": "stream",
          "text": [
            "<class 'pandas.core.frame.DataFrame'>\n",
            "RangeIndex: 22556 entries, 0 to 22555\n",
            "Data columns (total 13 columns):\n",
            " #   Column            Non-Null Count  Dtype  \n",
            "---  ------            --------------  -----  \n",
            " 0   YEAR              22556 non-null  int64  \n",
            " 1   MAKE              22556 non-null  object \n",
            " 2   MODEL             22556 non-null  object \n",
            " 3   VEHICLE CLASS     22556 non-null  object \n",
            " 4   ENGINE SIZE       22556 non-null  float64\n",
            " 5   CYLINDERS         22556 non-null  int64  \n",
            " 6   TRANSMISSION      22556 non-null  object \n",
            " 7   FUEL              22556 non-null  object \n",
            " 8   FUEL CONSUMPTION  22556 non-null  float64\n",
            " 9   HWY (L/100 km)    22556 non-null  float64\n",
            " 10  COMB (L/100 km)   22556 non-null  float64\n",
            " 11  COMB (mpg)        22556 non-null  int64  \n",
            " 12  EMISSIONS         22556 non-null  int64  \n",
            "dtypes: float64(4), int64(4), object(5)\n",
            "memory usage: 2.2+ MB\n"
          ]
        }
      ],
      "source": [
        "data.info()"
      ]
    },
    {
      "cell_type": "code",
      "execution_count": null,
      "metadata": {
        "colab": {
          "base_uri": "https://localhost:8080/",
          "height": 224
        },
        "id": "wZzSlXWty8v3",
        "outputId": "1af1dde6-0c51-474c-840f-e8557450712a"
      },
      "outputs": [
        {
          "data": {
            "text/html": [
              "\n",
              "  <div id=\"df-e70270ee-5b0c-4fb6-90ba-d0cc85bf23f7\" class=\"colab-df-container\">\n",
              "    <div>\n",
              "<style scoped>\n",
              "    .dataframe tbody tr th:only-of-type {\n",
              "        vertical-align: middle;\n",
              "    }\n",
              "\n",
              "    .dataframe tbody tr th {\n",
              "        vertical-align: top;\n",
              "    }\n",
              "\n",
              "    .dataframe thead th {\n",
              "        text-align: right;\n",
              "    }\n",
              "</style>\n",
              "<table border=\"1\" class=\"dataframe\">\n",
              "  <thead>\n",
              "    <tr style=\"text-align: right;\">\n",
              "      <th></th>\n",
              "      <th>YEAR</th>\n",
              "      <th>MAKE</th>\n",
              "      <th>MODEL</th>\n",
              "      <th>VEHICLE CLASS</th>\n",
              "      <th>ENGINE SIZE</th>\n",
              "      <th>CYLINDERS</th>\n",
              "      <th>TRANSMISSION</th>\n",
              "      <th>FUEL</th>\n",
              "      <th>FUEL CONSUMPTION</th>\n",
              "      <th>HWY (L/100 km)</th>\n",
              "      <th>COMB (L/100 km)</th>\n",
              "      <th>COMB (mpg)</th>\n",
              "      <th>EMISSIONS</th>\n",
              "    </tr>\n",
              "  </thead>\n",
              "  <tbody>\n",
              "    <tr>\n",
              "      <th>0</th>\n",
              "      <td>2000</td>\n",
              "      <td>ACURA</td>\n",
              "      <td>1.6EL</td>\n",
              "      <td>COMPACT</td>\n",
              "      <td>1.6</td>\n",
              "      <td>4</td>\n",
              "      <td>A4</td>\n",
              "      <td>X</td>\n",
              "      <td>9.2</td>\n",
              "      <td>6.7</td>\n",
              "      <td>8.1</td>\n",
              "      <td>35</td>\n",
              "      <td>186</td>\n",
              "    </tr>\n",
              "    <tr>\n",
              "      <th>1</th>\n",
              "      <td>2000</td>\n",
              "      <td>ACURA</td>\n",
              "      <td>1.6EL</td>\n",
              "      <td>COMPACT</td>\n",
              "      <td>1.6</td>\n",
              "      <td>4</td>\n",
              "      <td>M5</td>\n",
              "      <td>X</td>\n",
              "      <td>8.5</td>\n",
              "      <td>6.5</td>\n",
              "      <td>7.6</td>\n",
              "      <td>37</td>\n",
              "      <td>175</td>\n",
              "    </tr>\n",
              "    <tr>\n",
              "      <th>2</th>\n",
              "      <td>2000</td>\n",
              "      <td>ACURA</td>\n",
              "      <td>3.2TL</td>\n",
              "      <td>MID-SIZE</td>\n",
              "      <td>3.2</td>\n",
              "      <td>6</td>\n",
              "      <td>AS5</td>\n",
              "      <td>Z</td>\n",
              "      <td>12.2</td>\n",
              "      <td>7.4</td>\n",
              "      <td>10.0</td>\n",
              "      <td>28</td>\n",
              "      <td>230</td>\n",
              "    </tr>\n",
              "    <tr>\n",
              "      <th>3</th>\n",
              "      <td>2000</td>\n",
              "      <td>ACURA</td>\n",
              "      <td>3.5RL</td>\n",
              "      <td>MID-SIZE</td>\n",
              "      <td>3.5</td>\n",
              "      <td>6</td>\n",
              "      <td>A4</td>\n",
              "      <td>Z</td>\n",
              "      <td>13.4</td>\n",
              "      <td>9.2</td>\n",
              "      <td>11.5</td>\n",
              "      <td>25</td>\n",
              "      <td>264</td>\n",
              "    </tr>\n",
              "    <tr>\n",
              "      <th>4</th>\n",
              "      <td>2000</td>\n",
              "      <td>ACURA</td>\n",
              "      <td>INTEGRA</td>\n",
              "      <td>SUBCOMPACT</td>\n",
              "      <td>1.8</td>\n",
              "      <td>4</td>\n",
              "      <td>A4</td>\n",
              "      <td>X</td>\n",
              "      <td>10.0</td>\n",
              "      <td>7.0</td>\n",
              "      <td>8.6</td>\n",
              "      <td>33</td>\n",
              "      <td>198</td>\n",
              "    </tr>\n",
              "  </tbody>\n",
              "</table>\n",
              "</div>\n",
              "    <div class=\"colab-df-buttons\">\n",
              "\n",
              "  <div class=\"colab-df-container\">\n",
              "    <button class=\"colab-df-convert\" onclick=\"convertToInteractive('df-e70270ee-5b0c-4fb6-90ba-d0cc85bf23f7')\"\n",
              "            title=\"Convert this dataframe to an interactive table.\"\n",
              "            style=\"display:none;\">\n",
              "\n",
              "  <svg xmlns=\"http://www.w3.org/2000/svg\" height=\"24px\" viewBox=\"0 -960 960 960\">\n",
              "    <path d=\"M120-120v-720h720v720H120Zm60-500h600v-160H180v160Zm220 220h160v-160H400v160Zm0 220h160v-160H400v160ZM180-400h160v-160H180v160Zm440 0h160v-160H620v160ZM180-180h160v-160H180v160Zm440 0h160v-160H620v160Z\"/>\n",
              "  </svg>\n",
              "    </button>\n",
              "\n",
              "  <style>\n",
              "    .colab-df-container {\n",
              "      display:flex;\n",
              "      gap: 12px;\n",
              "    }\n",
              "\n",
              "    .colab-df-convert {\n",
              "      background-color: #E8F0FE;\n",
              "      border: none;\n",
              "      border-radius: 50%;\n",
              "      cursor: pointer;\n",
              "      display: none;\n",
              "      fill: #1967D2;\n",
              "      height: 32px;\n",
              "      padding: 0 0 0 0;\n",
              "      width: 32px;\n",
              "    }\n",
              "\n",
              "    .colab-df-convert:hover {\n",
              "      background-color: #E2EBFA;\n",
              "      box-shadow: 0px 1px 2px rgba(60, 64, 67, 0.3), 0px 1px 3px 1px rgba(60, 64, 67, 0.15);\n",
              "      fill: #174EA6;\n",
              "    }\n",
              "\n",
              "    .colab-df-buttons div {\n",
              "      margin-bottom: 4px;\n",
              "    }\n",
              "\n",
              "    [theme=dark] .colab-df-convert {\n",
              "      background-color: #3B4455;\n",
              "      fill: #D2E3FC;\n",
              "    }\n",
              "\n",
              "    [theme=dark] .colab-df-convert:hover {\n",
              "      background-color: #434B5C;\n",
              "      box-shadow: 0px 1px 3px 1px rgba(0, 0, 0, 0.15);\n",
              "      filter: drop-shadow(0px 1px 2px rgba(0, 0, 0, 0.3));\n",
              "      fill: #FFFFFF;\n",
              "    }\n",
              "  </style>\n",
              "\n",
              "    <script>\n",
              "      const buttonEl =\n",
              "        document.querySelector('#df-e70270ee-5b0c-4fb6-90ba-d0cc85bf23f7 button.colab-df-convert');\n",
              "      buttonEl.style.display =\n",
              "        google.colab.kernel.accessAllowed ? 'block' : 'none';\n",
              "\n",
              "      async function convertToInteractive(key) {\n",
              "        const element = document.querySelector('#df-e70270ee-5b0c-4fb6-90ba-d0cc85bf23f7');\n",
              "        const dataTable =\n",
              "          await google.colab.kernel.invokeFunction('convertToInteractive',\n",
              "                                                    [key], {});\n",
              "        if (!dataTable) return;\n",
              "\n",
              "        const docLinkHtml = 'Like what you see? Visit the ' +\n",
              "          '<a target=\"_blank\" href=https://colab.research.google.com/notebooks/data_table.ipynb>data table notebook</a>'\n",
              "          + ' to learn more about interactive tables.';\n",
              "        element.innerHTML = '';\n",
              "        dataTable['output_type'] = 'display_data';\n",
              "        await google.colab.output.renderOutput(dataTable, element);\n",
              "        const docLink = document.createElement('div');\n",
              "        docLink.innerHTML = docLinkHtml;\n",
              "        element.appendChild(docLink);\n",
              "      }\n",
              "    </script>\n",
              "  </div>\n",
              "\n",
              "\n",
              "<div id=\"df-9afbd0ed-1979-4c7b-a4f4-702ec0e7fcb3\">\n",
              "  <button class=\"colab-df-quickchart\" onclick=\"quickchart('df-9afbd0ed-1979-4c7b-a4f4-702ec0e7fcb3')\"\n",
              "            title=\"Suggest charts.\"\n",
              "            style=\"display:none;\">\n",
              "\n",
              "<svg xmlns=\"http://www.w3.org/2000/svg\" height=\"24px\"viewBox=\"0 0 24 24\"\n",
              "     width=\"24px\">\n",
              "    <g>\n",
              "        <path d=\"M19 3H5c-1.1 0-2 .9-2 2v14c0 1.1.9 2 2 2h14c1.1 0 2-.9 2-2V5c0-1.1-.9-2-2-2zM9 17H7v-7h2v7zm4 0h-2V7h2v10zm4 0h-2v-4h2v4z\"/>\n",
              "    </g>\n",
              "</svg>\n",
              "  </button>\n",
              "\n",
              "<style>\n",
              "  .colab-df-quickchart {\n",
              "      --bg-color: #E8F0FE;\n",
              "      --fill-color: #1967D2;\n",
              "      --hover-bg-color: #E2EBFA;\n",
              "      --hover-fill-color: #174EA6;\n",
              "      --disabled-fill-color: #AAA;\n",
              "      --disabled-bg-color: #DDD;\n",
              "  }\n",
              "\n",
              "  [theme=dark] .colab-df-quickchart {\n",
              "      --bg-color: #3B4455;\n",
              "      --fill-color: #D2E3FC;\n",
              "      --hover-bg-color: #434B5C;\n",
              "      --hover-fill-color: #FFFFFF;\n",
              "      --disabled-bg-color: #3B4455;\n",
              "      --disabled-fill-color: #666;\n",
              "  }\n",
              "\n",
              "  .colab-df-quickchart {\n",
              "    background-color: var(--bg-color);\n",
              "    border: none;\n",
              "    border-radius: 50%;\n",
              "    cursor: pointer;\n",
              "    display: none;\n",
              "    fill: var(--fill-color);\n",
              "    height: 32px;\n",
              "    padding: 0;\n",
              "    width: 32px;\n",
              "  }\n",
              "\n",
              "  .colab-df-quickchart:hover {\n",
              "    background-color: var(--hover-bg-color);\n",
              "    box-shadow: 0 1px 2px rgba(60, 64, 67, 0.3), 0 1px 3px 1px rgba(60, 64, 67, 0.15);\n",
              "    fill: var(--button-hover-fill-color);\n",
              "  }\n",
              "\n",
              "  .colab-df-quickchart-complete:disabled,\n",
              "  .colab-df-quickchart-complete:disabled:hover {\n",
              "    background-color: var(--disabled-bg-color);\n",
              "    fill: var(--disabled-fill-color);\n",
              "    box-shadow: none;\n",
              "  }\n",
              "\n",
              "  .colab-df-spinner {\n",
              "    border: 2px solid var(--fill-color);\n",
              "    border-color: transparent;\n",
              "    border-bottom-color: var(--fill-color);\n",
              "    animation:\n",
              "      spin 1s steps(1) infinite;\n",
              "  }\n",
              "\n",
              "  @keyframes spin {\n",
              "    0% {\n",
              "      border-color: transparent;\n",
              "      border-bottom-color: var(--fill-color);\n",
              "      border-left-color: var(--fill-color);\n",
              "    }\n",
              "    20% {\n",
              "      border-color: transparent;\n",
              "      border-left-color: var(--fill-color);\n",
              "      border-top-color: var(--fill-color);\n",
              "    }\n",
              "    30% {\n",
              "      border-color: transparent;\n",
              "      border-left-color: var(--fill-color);\n",
              "      border-top-color: var(--fill-color);\n",
              "      border-right-color: var(--fill-color);\n",
              "    }\n",
              "    40% {\n",
              "      border-color: transparent;\n",
              "      border-right-color: var(--fill-color);\n",
              "      border-top-color: var(--fill-color);\n",
              "    }\n",
              "    60% {\n",
              "      border-color: transparent;\n",
              "      border-right-color: var(--fill-color);\n",
              "    }\n",
              "    80% {\n",
              "      border-color: transparent;\n",
              "      border-right-color: var(--fill-color);\n",
              "      border-bottom-color: var(--fill-color);\n",
              "    }\n",
              "    90% {\n",
              "      border-color: transparent;\n",
              "      border-bottom-color: var(--fill-color);\n",
              "    }\n",
              "  }\n",
              "</style>\n",
              "\n",
              "  <script>\n",
              "    async function quickchart(key) {\n",
              "      const quickchartButtonEl =\n",
              "        document.querySelector('#' + key + ' button');\n",
              "      quickchartButtonEl.disabled = true;  // To prevent multiple clicks.\n",
              "      quickchartButtonEl.classList.add('colab-df-spinner');\n",
              "      try {\n",
              "        const charts = await google.colab.kernel.invokeFunction(\n",
              "            'suggestCharts', [key], {});\n",
              "      } catch (error) {\n",
              "        console.error('Error during call to suggestCharts:', error);\n",
              "      }\n",
              "      quickchartButtonEl.classList.remove('colab-df-spinner');\n",
              "      quickchartButtonEl.classList.add('colab-df-quickchart-complete');\n",
              "    }\n",
              "    (() => {\n",
              "      let quickchartButtonEl =\n",
              "        document.querySelector('#df-9afbd0ed-1979-4c7b-a4f4-702ec0e7fcb3 button');\n",
              "      quickchartButtonEl.style.display =\n",
              "        google.colab.kernel.accessAllowed ? 'block' : 'none';\n",
              "    })();\n",
              "  </script>\n",
              "</div>\n",
              "    </div>\n",
              "  </div>\n"
            ],
            "text/plain": [
              "   YEAR   MAKE    MODEL VEHICLE CLASS  ENGINE SIZE  CYLINDERS TRANSMISSION  \\\n",
              "0  2000  ACURA    1.6EL       COMPACT          1.6          4           A4   \n",
              "1  2000  ACURA    1.6EL       COMPACT          1.6          4           M5   \n",
              "2  2000  ACURA    3.2TL      MID-SIZE          3.2          6          AS5   \n",
              "3  2000  ACURA    3.5RL      MID-SIZE          3.5          6           A4   \n",
              "4  2000  ACURA  INTEGRA    SUBCOMPACT          1.8          4           A4   \n",
              "\n",
              "  FUEL  FUEL CONSUMPTION  HWY (L/100 km)  COMB (L/100 km)  COMB (mpg)  \\\n",
              "0    X               9.2             6.7              8.1          35   \n",
              "1    X               8.5             6.5              7.6          37   \n",
              "2    Z              12.2             7.4             10.0          28   \n",
              "3    Z              13.4             9.2             11.5          25   \n",
              "4    X              10.0             7.0              8.6          33   \n",
              "\n",
              "   EMISSIONS  \n",
              "0        186  \n",
              "1        175  \n",
              "2        230  \n",
              "3        264  \n",
              "4        198  "
            ]
          },
          "execution_count": 5,
          "metadata": {},
          "output_type": "execute_result"
        }
      ],
      "source": [
        "data.head(5)"
      ]
    },
    {
      "cell_type": "code",
      "execution_count": null,
      "metadata": {
        "colab": {
          "base_uri": "https://localhost:8080/",
          "height": 310
        },
        "id": "an906XxtzAF7",
        "outputId": "c62fd8b2-0f83-4e28-c086-1e4e23801884"
      },
      "outputs": [
        {
          "data": {
            "text/html": [
              "\n",
              "  <div id=\"df-6f3446b5-e941-4c12-bec2-e61375cf9077\" class=\"colab-df-container\">\n",
              "    <div>\n",
              "<style scoped>\n",
              "    .dataframe tbody tr th:only-of-type {\n",
              "        vertical-align: middle;\n",
              "    }\n",
              "\n",
              "    .dataframe tbody tr th {\n",
              "        vertical-align: top;\n",
              "    }\n",
              "\n",
              "    .dataframe thead th {\n",
              "        text-align: right;\n",
              "    }\n",
              "</style>\n",
              "<table border=\"1\" class=\"dataframe\">\n",
              "  <thead>\n",
              "    <tr style=\"text-align: right;\">\n",
              "      <th></th>\n",
              "      <th>YEAR</th>\n",
              "      <th>MAKE</th>\n",
              "      <th>MODEL</th>\n",
              "      <th>VEHICLE CLASS</th>\n",
              "      <th>ENGINE SIZE</th>\n",
              "      <th>CYLINDERS</th>\n",
              "      <th>TRANSMISSION</th>\n",
              "      <th>FUEL</th>\n",
              "      <th>FUEL CONSUMPTION</th>\n",
              "      <th>HWY (L/100 km)</th>\n",
              "      <th>COMB (L/100 km)</th>\n",
              "      <th>COMB (mpg)</th>\n",
              "      <th>EMISSIONS</th>\n",
              "    </tr>\n",
              "  </thead>\n",
              "  <tbody>\n",
              "    <tr>\n",
              "      <th>22551</th>\n",
              "      <td>2022</td>\n",
              "      <td>Volvo</td>\n",
              "      <td>XC40 T5 AWD</td>\n",
              "      <td>SUV: Small</td>\n",
              "      <td>2.0</td>\n",
              "      <td>4</td>\n",
              "      <td>AS8</td>\n",
              "      <td>Z</td>\n",
              "      <td>10.7</td>\n",
              "      <td>7.7</td>\n",
              "      <td>9.4</td>\n",
              "      <td>30</td>\n",
              "      <td>219</td>\n",
              "    </tr>\n",
              "    <tr>\n",
              "      <th>22552</th>\n",
              "      <td>2022</td>\n",
              "      <td>Volvo</td>\n",
              "      <td>XC60 B5 AWD</td>\n",
              "      <td>SUV: Small</td>\n",
              "      <td>2.0</td>\n",
              "      <td>4</td>\n",
              "      <td>AS8</td>\n",
              "      <td>Z</td>\n",
              "      <td>10.5</td>\n",
              "      <td>8.1</td>\n",
              "      <td>9.4</td>\n",
              "      <td>30</td>\n",
              "      <td>219</td>\n",
              "    </tr>\n",
              "    <tr>\n",
              "      <th>22553</th>\n",
              "      <td>2022</td>\n",
              "      <td>Volvo</td>\n",
              "      <td>XC60 B6 AWD</td>\n",
              "      <td>SUV: Small</td>\n",
              "      <td>2.0</td>\n",
              "      <td>4</td>\n",
              "      <td>AS8</td>\n",
              "      <td>Z</td>\n",
              "      <td>11.0</td>\n",
              "      <td>8.7</td>\n",
              "      <td>9.9</td>\n",
              "      <td>29</td>\n",
              "      <td>232</td>\n",
              "    </tr>\n",
              "    <tr>\n",
              "      <th>22554</th>\n",
              "      <td>2022</td>\n",
              "      <td>Volvo</td>\n",
              "      <td>XC90 T5 AWD</td>\n",
              "      <td>SUV: Standard</td>\n",
              "      <td>2.0</td>\n",
              "      <td>4</td>\n",
              "      <td>AS8</td>\n",
              "      <td>Z</td>\n",
              "      <td>11.5</td>\n",
              "      <td>8.4</td>\n",
              "      <td>10.1</td>\n",
              "      <td>28</td>\n",
              "      <td>236</td>\n",
              "    </tr>\n",
              "    <tr>\n",
              "      <th>22555</th>\n",
              "      <td>2022</td>\n",
              "      <td>Volvo</td>\n",
              "      <td>XC90 T6 AWD</td>\n",
              "      <td>SUV: Standard</td>\n",
              "      <td>2.0</td>\n",
              "      <td>4</td>\n",
              "      <td>AS8</td>\n",
              "      <td>Z</td>\n",
              "      <td>12.4</td>\n",
              "      <td>8.9</td>\n",
              "      <td>10.8</td>\n",
              "      <td>26</td>\n",
              "      <td>252</td>\n",
              "    </tr>\n",
              "  </tbody>\n",
              "</table>\n",
              "</div>\n",
              "    <div class=\"colab-df-buttons\">\n",
              "\n",
              "  <div class=\"colab-df-container\">\n",
              "    <button class=\"colab-df-convert\" onclick=\"convertToInteractive('df-6f3446b5-e941-4c12-bec2-e61375cf9077')\"\n",
              "            title=\"Convert this dataframe to an interactive table.\"\n",
              "            style=\"display:none;\">\n",
              "\n",
              "  <svg xmlns=\"http://www.w3.org/2000/svg\" height=\"24px\" viewBox=\"0 -960 960 960\">\n",
              "    <path d=\"M120-120v-720h720v720H120Zm60-500h600v-160H180v160Zm220 220h160v-160H400v160Zm0 220h160v-160H400v160ZM180-400h160v-160H180v160Zm440 0h160v-160H620v160ZM180-180h160v-160H180v160Zm440 0h160v-160H620v160Z\"/>\n",
              "  </svg>\n",
              "    </button>\n",
              "\n",
              "  <style>\n",
              "    .colab-df-container {\n",
              "      display:flex;\n",
              "      gap: 12px;\n",
              "    }\n",
              "\n",
              "    .colab-df-convert {\n",
              "      background-color: #E8F0FE;\n",
              "      border: none;\n",
              "      border-radius: 50%;\n",
              "      cursor: pointer;\n",
              "      display: none;\n",
              "      fill: #1967D2;\n",
              "      height: 32px;\n",
              "      padding: 0 0 0 0;\n",
              "      width: 32px;\n",
              "    }\n",
              "\n",
              "    .colab-df-convert:hover {\n",
              "      background-color: #E2EBFA;\n",
              "      box-shadow: 0px 1px 2px rgba(60, 64, 67, 0.3), 0px 1px 3px 1px rgba(60, 64, 67, 0.15);\n",
              "      fill: #174EA6;\n",
              "    }\n",
              "\n",
              "    .colab-df-buttons div {\n",
              "      margin-bottom: 4px;\n",
              "    }\n",
              "\n",
              "    [theme=dark] .colab-df-convert {\n",
              "      background-color: #3B4455;\n",
              "      fill: #D2E3FC;\n",
              "    }\n",
              "\n",
              "    [theme=dark] .colab-df-convert:hover {\n",
              "      background-color: #434B5C;\n",
              "      box-shadow: 0px 1px 3px 1px rgba(0, 0, 0, 0.15);\n",
              "      filter: drop-shadow(0px 1px 2px rgba(0, 0, 0, 0.3));\n",
              "      fill: #FFFFFF;\n",
              "    }\n",
              "  </style>\n",
              "\n",
              "    <script>\n",
              "      const buttonEl =\n",
              "        document.querySelector('#df-6f3446b5-e941-4c12-bec2-e61375cf9077 button.colab-df-convert');\n",
              "      buttonEl.style.display =\n",
              "        google.colab.kernel.accessAllowed ? 'block' : 'none';\n",
              "\n",
              "      async function convertToInteractive(key) {\n",
              "        const element = document.querySelector('#df-6f3446b5-e941-4c12-bec2-e61375cf9077');\n",
              "        const dataTable =\n",
              "          await google.colab.kernel.invokeFunction('convertToInteractive',\n",
              "                                                    [key], {});\n",
              "        if (!dataTable) return;\n",
              "\n",
              "        const docLinkHtml = 'Like what you see? Visit the ' +\n",
              "          '<a target=\"_blank\" href=https://colab.research.google.com/notebooks/data_table.ipynb>data table notebook</a>'\n",
              "          + ' to learn more about interactive tables.';\n",
              "        element.innerHTML = '';\n",
              "        dataTable['output_type'] = 'display_data';\n",
              "        await google.colab.output.renderOutput(dataTable, element);\n",
              "        const docLink = document.createElement('div');\n",
              "        docLink.innerHTML = docLinkHtml;\n",
              "        element.appendChild(docLink);\n",
              "      }\n",
              "    </script>\n",
              "  </div>\n",
              "\n",
              "\n",
              "<div id=\"df-beb641cf-7597-4ec0-bfb8-086f8b88b306\">\n",
              "  <button class=\"colab-df-quickchart\" onclick=\"quickchart('df-beb641cf-7597-4ec0-bfb8-086f8b88b306')\"\n",
              "            title=\"Suggest charts.\"\n",
              "            style=\"display:none;\">\n",
              "\n",
              "<svg xmlns=\"http://www.w3.org/2000/svg\" height=\"24px\"viewBox=\"0 0 24 24\"\n",
              "     width=\"24px\">\n",
              "    <g>\n",
              "        <path d=\"M19 3H5c-1.1 0-2 .9-2 2v14c0 1.1.9 2 2 2h14c1.1 0 2-.9 2-2V5c0-1.1-.9-2-2-2zM9 17H7v-7h2v7zm4 0h-2V7h2v10zm4 0h-2v-4h2v4z\"/>\n",
              "    </g>\n",
              "</svg>\n",
              "  </button>\n",
              "\n",
              "<style>\n",
              "  .colab-df-quickchart {\n",
              "      --bg-color: #E8F0FE;\n",
              "      --fill-color: #1967D2;\n",
              "      --hover-bg-color: #E2EBFA;\n",
              "      --hover-fill-color: #174EA6;\n",
              "      --disabled-fill-color: #AAA;\n",
              "      --disabled-bg-color: #DDD;\n",
              "  }\n",
              "\n",
              "  [theme=dark] .colab-df-quickchart {\n",
              "      --bg-color: #3B4455;\n",
              "      --fill-color: #D2E3FC;\n",
              "      --hover-bg-color: #434B5C;\n",
              "      --hover-fill-color: #FFFFFF;\n",
              "      --disabled-bg-color: #3B4455;\n",
              "      --disabled-fill-color: #666;\n",
              "  }\n",
              "\n",
              "  .colab-df-quickchart {\n",
              "    background-color: var(--bg-color);\n",
              "    border: none;\n",
              "    border-radius: 50%;\n",
              "    cursor: pointer;\n",
              "    display: none;\n",
              "    fill: var(--fill-color);\n",
              "    height: 32px;\n",
              "    padding: 0;\n",
              "    width: 32px;\n",
              "  }\n",
              "\n",
              "  .colab-df-quickchart:hover {\n",
              "    background-color: var(--hover-bg-color);\n",
              "    box-shadow: 0 1px 2px rgba(60, 64, 67, 0.3), 0 1px 3px 1px rgba(60, 64, 67, 0.15);\n",
              "    fill: var(--button-hover-fill-color);\n",
              "  }\n",
              "\n",
              "  .colab-df-quickchart-complete:disabled,\n",
              "  .colab-df-quickchart-complete:disabled:hover {\n",
              "    background-color: var(--disabled-bg-color);\n",
              "    fill: var(--disabled-fill-color);\n",
              "    box-shadow: none;\n",
              "  }\n",
              "\n",
              "  .colab-df-spinner {\n",
              "    border: 2px solid var(--fill-color);\n",
              "    border-color: transparent;\n",
              "    border-bottom-color: var(--fill-color);\n",
              "    animation:\n",
              "      spin 1s steps(1) infinite;\n",
              "  }\n",
              "\n",
              "  @keyframes spin {\n",
              "    0% {\n",
              "      border-color: transparent;\n",
              "      border-bottom-color: var(--fill-color);\n",
              "      border-left-color: var(--fill-color);\n",
              "    }\n",
              "    20% {\n",
              "      border-color: transparent;\n",
              "      border-left-color: var(--fill-color);\n",
              "      border-top-color: var(--fill-color);\n",
              "    }\n",
              "    30% {\n",
              "      border-color: transparent;\n",
              "      border-left-color: var(--fill-color);\n",
              "      border-top-color: var(--fill-color);\n",
              "      border-right-color: var(--fill-color);\n",
              "    }\n",
              "    40% {\n",
              "      border-color: transparent;\n",
              "      border-right-color: var(--fill-color);\n",
              "      border-top-color: var(--fill-color);\n",
              "    }\n",
              "    60% {\n",
              "      border-color: transparent;\n",
              "      border-right-color: var(--fill-color);\n",
              "    }\n",
              "    80% {\n",
              "      border-color: transparent;\n",
              "      border-right-color: var(--fill-color);\n",
              "      border-bottom-color: var(--fill-color);\n",
              "    }\n",
              "    90% {\n",
              "      border-color: transparent;\n",
              "      border-bottom-color: var(--fill-color);\n",
              "    }\n",
              "  }\n",
              "</style>\n",
              "\n",
              "  <script>\n",
              "    async function quickchart(key) {\n",
              "      const quickchartButtonEl =\n",
              "        document.querySelector('#' + key + ' button');\n",
              "      quickchartButtonEl.disabled = true;  // To prevent multiple clicks.\n",
              "      quickchartButtonEl.classList.add('colab-df-spinner');\n",
              "      try {\n",
              "        const charts = await google.colab.kernel.invokeFunction(\n",
              "            'suggestCharts', [key], {});\n",
              "      } catch (error) {\n",
              "        console.error('Error during call to suggestCharts:', error);\n",
              "      }\n",
              "      quickchartButtonEl.classList.remove('colab-df-spinner');\n",
              "      quickchartButtonEl.classList.add('colab-df-quickchart-complete');\n",
              "    }\n",
              "    (() => {\n",
              "      let quickchartButtonEl =\n",
              "        document.querySelector('#df-beb641cf-7597-4ec0-bfb8-086f8b88b306 button');\n",
              "      quickchartButtonEl.style.display =\n",
              "        google.colab.kernel.accessAllowed ? 'block' : 'none';\n",
              "    })();\n",
              "  </script>\n",
              "</div>\n",
              "    </div>\n",
              "  </div>\n"
            ],
            "text/plain": [
              "       YEAR   MAKE        MODEL  VEHICLE CLASS  ENGINE SIZE  CYLINDERS  \\\n",
              "22551  2022  Volvo  XC40 T5 AWD     SUV: Small          2.0          4   \n",
              "22552  2022  Volvo  XC60 B5 AWD     SUV: Small          2.0          4   \n",
              "22553  2022  Volvo  XC60 B6 AWD     SUV: Small          2.0          4   \n",
              "22554  2022  Volvo  XC90 T5 AWD  SUV: Standard          2.0          4   \n",
              "22555  2022  Volvo  XC90 T6 AWD  SUV: Standard          2.0          4   \n",
              "\n",
              "      TRANSMISSION FUEL  FUEL CONSUMPTION  HWY (L/100 km)  COMB (L/100 km)  \\\n",
              "22551          AS8    Z              10.7             7.7              9.4   \n",
              "22552          AS8    Z              10.5             8.1              9.4   \n",
              "22553          AS8    Z              11.0             8.7              9.9   \n",
              "22554          AS8    Z              11.5             8.4             10.1   \n",
              "22555          AS8    Z              12.4             8.9             10.8   \n",
              "\n",
              "       COMB (mpg)  EMISSIONS  \n",
              "22551          30        219  \n",
              "22552          30        219  \n",
              "22553          29        232  \n",
              "22554          28        236  \n",
              "22555          26        252  "
            ]
          },
          "execution_count": 6,
          "metadata": {},
          "output_type": "execute_result"
        }
      ],
      "source": [
        "data.tail(5)"
      ]
    },
    {
      "cell_type": "code",
      "execution_count": null,
      "metadata": {
        "colab": {
          "base_uri": "https://localhost:8080/",
          "height": 300
        },
        "id": "YGO_FGu7zE0M",
        "outputId": "45a7e17d-f067-45a9-b432-2e722a925ba8"
      },
      "outputs": [
        {
          "data": {
            "text/html": [
              "\n",
              "  <div id=\"df-04a925b6-64db-4d1d-9ea4-385c3c98a62f\" class=\"colab-df-container\">\n",
              "    <div>\n",
              "<style scoped>\n",
              "    .dataframe tbody tr th:only-of-type {\n",
              "        vertical-align: middle;\n",
              "    }\n",
              "\n",
              "    .dataframe tbody tr th {\n",
              "        vertical-align: top;\n",
              "    }\n",
              "\n",
              "    .dataframe thead th {\n",
              "        text-align: right;\n",
              "    }\n",
              "</style>\n",
              "<table border=\"1\" class=\"dataframe\">\n",
              "  <thead>\n",
              "    <tr style=\"text-align: right;\">\n",
              "      <th></th>\n",
              "      <th>YEAR</th>\n",
              "      <th>ENGINE SIZE</th>\n",
              "      <th>CYLINDERS</th>\n",
              "      <th>FUEL CONSUMPTION</th>\n",
              "      <th>HWY (L/100 km)</th>\n",
              "      <th>COMB (L/100 km)</th>\n",
              "      <th>COMB (mpg)</th>\n",
              "      <th>EMISSIONS</th>\n",
              "    </tr>\n",
              "  </thead>\n",
              "  <tbody>\n",
              "    <tr>\n",
              "      <th>count</th>\n",
              "      <td>22556.000000</td>\n",
              "      <td>22556.000000</td>\n",
              "      <td>22556.000000</td>\n",
              "      <td>22556.000000</td>\n",
              "      <td>22556.000000</td>\n",
              "      <td>22556.000000</td>\n",
              "      <td>22556.000000</td>\n",
              "      <td>22556.000000</td>\n",
              "    </tr>\n",
              "    <tr>\n",
              "      <th>mean</th>\n",
              "      <td>2011.554442</td>\n",
              "      <td>3.356646</td>\n",
              "      <td>5.854141</td>\n",
              "      <td>12.763513</td>\n",
              "      <td>8.919126</td>\n",
              "      <td>11.034341</td>\n",
              "      <td>27.374534</td>\n",
              "      <td>250.068452</td>\n",
              "    </tr>\n",
              "    <tr>\n",
              "      <th>std</th>\n",
              "      <td>6.298269</td>\n",
              "      <td>1.335425</td>\n",
              "      <td>1.819597</td>\n",
              "      <td>3.500999</td>\n",
              "      <td>2.274764</td>\n",
              "      <td>2.910920</td>\n",
              "      <td>7.376982</td>\n",
              "      <td>59.355276</td>\n",
              "    </tr>\n",
              "    <tr>\n",
              "      <th>min</th>\n",
              "      <td>2000.000000</td>\n",
              "      <td>0.800000</td>\n",
              "      <td>2.000000</td>\n",
              "      <td>3.500000</td>\n",
              "      <td>3.200000</td>\n",
              "      <td>3.600000</td>\n",
              "      <td>11.000000</td>\n",
              "      <td>83.000000</td>\n",
              "    </tr>\n",
              "    <tr>\n",
              "      <th>25%</th>\n",
              "      <td>2006.000000</td>\n",
              "      <td>2.300000</td>\n",
              "      <td>4.000000</td>\n",
              "      <td>10.400000</td>\n",
              "      <td>7.300000</td>\n",
              "      <td>9.100000</td>\n",
              "      <td>22.000000</td>\n",
              "      <td>209.000000</td>\n",
              "    </tr>\n",
              "    <tr>\n",
              "      <th>50%</th>\n",
              "      <td>2012.000000</td>\n",
              "      <td>3.000000</td>\n",
              "      <td>6.000000</td>\n",
              "      <td>12.300000</td>\n",
              "      <td>8.400000</td>\n",
              "      <td>10.600000</td>\n",
              "      <td>27.000000</td>\n",
              "      <td>243.000000</td>\n",
              "    </tr>\n",
              "    <tr>\n",
              "      <th>75%</th>\n",
              "      <td>2017.000000</td>\n",
              "      <td>4.200000</td>\n",
              "      <td>8.000000</td>\n",
              "      <td>14.725000</td>\n",
              "      <td>10.200000</td>\n",
              "      <td>12.700000</td>\n",
              "      <td>31.000000</td>\n",
              "      <td>288.000000</td>\n",
              "    </tr>\n",
              "    <tr>\n",
              "      <th>max</th>\n",
              "      <td>2022.000000</td>\n",
              "      <td>8.400000</td>\n",
              "      <td>16.000000</td>\n",
              "      <td>30.600000</td>\n",
              "      <td>20.900000</td>\n",
              "      <td>26.100000</td>\n",
              "      <td>78.000000</td>\n",
              "      <td>608.000000</td>\n",
              "    </tr>\n",
              "  </tbody>\n",
              "</table>\n",
              "</div>\n",
              "    <div class=\"colab-df-buttons\">\n",
              "\n",
              "  <div class=\"colab-df-container\">\n",
              "    <button class=\"colab-df-convert\" onclick=\"convertToInteractive('df-04a925b6-64db-4d1d-9ea4-385c3c98a62f')\"\n",
              "            title=\"Convert this dataframe to an interactive table.\"\n",
              "            style=\"display:none;\">\n",
              "\n",
              "  <svg xmlns=\"http://www.w3.org/2000/svg\" height=\"24px\" viewBox=\"0 -960 960 960\">\n",
              "    <path d=\"M120-120v-720h720v720H120Zm60-500h600v-160H180v160Zm220 220h160v-160H400v160Zm0 220h160v-160H400v160ZM180-400h160v-160H180v160Zm440 0h160v-160H620v160ZM180-180h160v-160H180v160Zm440 0h160v-160H620v160Z\"/>\n",
              "  </svg>\n",
              "    </button>\n",
              "\n",
              "  <style>\n",
              "    .colab-df-container {\n",
              "      display:flex;\n",
              "      gap: 12px;\n",
              "    }\n",
              "\n",
              "    .colab-df-convert {\n",
              "      background-color: #E8F0FE;\n",
              "      border: none;\n",
              "      border-radius: 50%;\n",
              "      cursor: pointer;\n",
              "      display: none;\n",
              "      fill: #1967D2;\n",
              "      height: 32px;\n",
              "      padding: 0 0 0 0;\n",
              "      width: 32px;\n",
              "    }\n",
              "\n",
              "    .colab-df-convert:hover {\n",
              "      background-color: #E2EBFA;\n",
              "      box-shadow: 0px 1px 2px rgba(60, 64, 67, 0.3), 0px 1px 3px 1px rgba(60, 64, 67, 0.15);\n",
              "      fill: #174EA6;\n",
              "    }\n",
              "\n",
              "    .colab-df-buttons div {\n",
              "      margin-bottom: 4px;\n",
              "    }\n",
              "\n",
              "    [theme=dark] .colab-df-convert {\n",
              "      background-color: #3B4455;\n",
              "      fill: #D2E3FC;\n",
              "    }\n",
              "\n",
              "    [theme=dark] .colab-df-convert:hover {\n",
              "      background-color: #434B5C;\n",
              "      box-shadow: 0px 1px 3px 1px rgba(0, 0, 0, 0.15);\n",
              "      filter: drop-shadow(0px 1px 2px rgba(0, 0, 0, 0.3));\n",
              "      fill: #FFFFFF;\n",
              "    }\n",
              "  </style>\n",
              "\n",
              "    <script>\n",
              "      const buttonEl =\n",
              "        document.querySelector('#df-04a925b6-64db-4d1d-9ea4-385c3c98a62f button.colab-df-convert');\n",
              "      buttonEl.style.display =\n",
              "        google.colab.kernel.accessAllowed ? 'block' : 'none';\n",
              "\n",
              "      async function convertToInteractive(key) {\n",
              "        const element = document.querySelector('#df-04a925b6-64db-4d1d-9ea4-385c3c98a62f');\n",
              "        const dataTable =\n",
              "          await google.colab.kernel.invokeFunction('convertToInteractive',\n",
              "                                                    [key], {});\n",
              "        if (!dataTable) return;\n",
              "\n",
              "        const docLinkHtml = 'Like what you see? Visit the ' +\n",
              "          '<a target=\"_blank\" href=https://colab.research.google.com/notebooks/data_table.ipynb>data table notebook</a>'\n",
              "          + ' to learn more about interactive tables.';\n",
              "        element.innerHTML = '';\n",
              "        dataTable['output_type'] = 'display_data';\n",
              "        await google.colab.output.renderOutput(dataTable, element);\n",
              "        const docLink = document.createElement('div');\n",
              "        docLink.innerHTML = docLinkHtml;\n",
              "        element.appendChild(docLink);\n",
              "      }\n",
              "    </script>\n",
              "  </div>\n",
              "\n",
              "\n",
              "<div id=\"df-7ad28ce8-fd5d-4e42-8cfc-edb7e9525779\">\n",
              "  <button class=\"colab-df-quickchart\" onclick=\"quickchart('df-7ad28ce8-fd5d-4e42-8cfc-edb7e9525779')\"\n",
              "            title=\"Suggest charts.\"\n",
              "            style=\"display:none;\">\n",
              "\n",
              "<svg xmlns=\"http://www.w3.org/2000/svg\" height=\"24px\"viewBox=\"0 0 24 24\"\n",
              "     width=\"24px\">\n",
              "    <g>\n",
              "        <path d=\"M19 3H5c-1.1 0-2 .9-2 2v14c0 1.1.9 2 2 2h14c1.1 0 2-.9 2-2V5c0-1.1-.9-2-2-2zM9 17H7v-7h2v7zm4 0h-2V7h2v10zm4 0h-2v-4h2v4z\"/>\n",
              "    </g>\n",
              "</svg>\n",
              "  </button>\n",
              "\n",
              "<style>\n",
              "  .colab-df-quickchart {\n",
              "      --bg-color: #E8F0FE;\n",
              "      --fill-color: #1967D2;\n",
              "      --hover-bg-color: #E2EBFA;\n",
              "      --hover-fill-color: #174EA6;\n",
              "      --disabled-fill-color: #AAA;\n",
              "      --disabled-bg-color: #DDD;\n",
              "  }\n",
              "\n",
              "  [theme=dark] .colab-df-quickchart {\n",
              "      --bg-color: #3B4455;\n",
              "      --fill-color: #D2E3FC;\n",
              "      --hover-bg-color: #434B5C;\n",
              "      --hover-fill-color: #FFFFFF;\n",
              "      --disabled-bg-color: #3B4455;\n",
              "      --disabled-fill-color: #666;\n",
              "  }\n",
              "\n",
              "  .colab-df-quickchart {\n",
              "    background-color: var(--bg-color);\n",
              "    border: none;\n",
              "    border-radius: 50%;\n",
              "    cursor: pointer;\n",
              "    display: none;\n",
              "    fill: var(--fill-color);\n",
              "    height: 32px;\n",
              "    padding: 0;\n",
              "    width: 32px;\n",
              "  }\n",
              "\n",
              "  .colab-df-quickchart:hover {\n",
              "    background-color: var(--hover-bg-color);\n",
              "    box-shadow: 0 1px 2px rgba(60, 64, 67, 0.3), 0 1px 3px 1px rgba(60, 64, 67, 0.15);\n",
              "    fill: var(--button-hover-fill-color);\n",
              "  }\n",
              "\n",
              "  .colab-df-quickchart-complete:disabled,\n",
              "  .colab-df-quickchart-complete:disabled:hover {\n",
              "    background-color: var(--disabled-bg-color);\n",
              "    fill: var(--disabled-fill-color);\n",
              "    box-shadow: none;\n",
              "  }\n",
              "\n",
              "  .colab-df-spinner {\n",
              "    border: 2px solid var(--fill-color);\n",
              "    border-color: transparent;\n",
              "    border-bottom-color: var(--fill-color);\n",
              "    animation:\n",
              "      spin 1s steps(1) infinite;\n",
              "  }\n",
              "\n",
              "  @keyframes spin {\n",
              "    0% {\n",
              "      border-color: transparent;\n",
              "      border-bottom-color: var(--fill-color);\n",
              "      border-left-color: var(--fill-color);\n",
              "    }\n",
              "    20% {\n",
              "      border-color: transparent;\n",
              "      border-left-color: var(--fill-color);\n",
              "      border-top-color: var(--fill-color);\n",
              "    }\n",
              "    30% {\n",
              "      border-color: transparent;\n",
              "      border-left-color: var(--fill-color);\n",
              "      border-top-color: var(--fill-color);\n",
              "      border-right-color: var(--fill-color);\n",
              "    }\n",
              "    40% {\n",
              "      border-color: transparent;\n",
              "      border-right-color: var(--fill-color);\n",
              "      border-top-color: var(--fill-color);\n",
              "    }\n",
              "    60% {\n",
              "      border-color: transparent;\n",
              "      border-right-color: var(--fill-color);\n",
              "    }\n",
              "    80% {\n",
              "      border-color: transparent;\n",
              "      border-right-color: var(--fill-color);\n",
              "      border-bottom-color: var(--fill-color);\n",
              "    }\n",
              "    90% {\n",
              "      border-color: transparent;\n",
              "      border-bottom-color: var(--fill-color);\n",
              "    }\n",
              "  }\n",
              "</style>\n",
              "\n",
              "  <script>\n",
              "    async function quickchart(key) {\n",
              "      const quickchartButtonEl =\n",
              "        document.querySelector('#' + key + ' button');\n",
              "      quickchartButtonEl.disabled = true;  // To prevent multiple clicks.\n",
              "      quickchartButtonEl.classList.add('colab-df-spinner');\n",
              "      try {\n",
              "        const charts = await google.colab.kernel.invokeFunction(\n",
              "            'suggestCharts', [key], {});\n",
              "      } catch (error) {\n",
              "        console.error('Error during call to suggestCharts:', error);\n",
              "      }\n",
              "      quickchartButtonEl.classList.remove('colab-df-spinner');\n",
              "      quickchartButtonEl.classList.add('colab-df-quickchart-complete');\n",
              "    }\n",
              "    (() => {\n",
              "      let quickchartButtonEl =\n",
              "        document.querySelector('#df-7ad28ce8-fd5d-4e42-8cfc-edb7e9525779 button');\n",
              "      quickchartButtonEl.style.display =\n",
              "        google.colab.kernel.accessAllowed ? 'block' : 'none';\n",
              "    })();\n",
              "  </script>\n",
              "</div>\n",
              "    </div>\n",
              "  </div>\n"
            ],
            "text/plain": [
              "               YEAR   ENGINE SIZE     CYLINDERS  FUEL CONSUMPTION  \\\n",
              "count  22556.000000  22556.000000  22556.000000      22556.000000   \n",
              "mean    2011.554442      3.356646      5.854141         12.763513   \n",
              "std        6.298269      1.335425      1.819597          3.500999   \n",
              "min     2000.000000      0.800000      2.000000          3.500000   \n",
              "25%     2006.000000      2.300000      4.000000         10.400000   \n",
              "50%     2012.000000      3.000000      6.000000         12.300000   \n",
              "75%     2017.000000      4.200000      8.000000         14.725000   \n",
              "max     2022.000000      8.400000     16.000000         30.600000   \n",
              "\n",
              "       HWY (L/100 km)  COMB (L/100 km)    COMB (mpg)     EMISSIONS  \n",
              "count    22556.000000     22556.000000  22556.000000  22556.000000  \n",
              "mean         8.919126        11.034341     27.374534    250.068452  \n",
              "std          2.274764         2.910920      7.376982     59.355276  \n",
              "min          3.200000         3.600000     11.000000     83.000000  \n",
              "25%          7.300000         9.100000     22.000000    209.000000  \n",
              "50%          8.400000        10.600000     27.000000    243.000000  \n",
              "75%         10.200000        12.700000     31.000000    288.000000  \n",
              "max         20.900000        26.100000     78.000000    608.000000  "
            ]
          },
          "execution_count": 7,
          "metadata": {},
          "output_type": "execute_result"
        }
      ],
      "source": [
        "data.describe()"
      ]
    },
    {
      "cell_type": "code",
      "execution_count": null,
      "metadata": {
        "colab": {
          "base_uri": "https://localhost:8080/"
        },
        "id": "8mCQ0dIbzNyX",
        "outputId": "b48062bc-83ee-44af-c19d-d1c3ecb63000"
      },
      "outputs": [
        {
          "data": {
            "text/plain": [
              "array(['ACURA', 'AUDI', 'BMW', 'BUICK', 'CADILLAC', 'CHEVROLET',\n",
              "       'CHRYSLER', 'DAEWOO', 'DODGE', 'FERRARI', 'FORD', 'GMC', 'HONDA',\n",
              "       'HYUNDAI', 'INFINITI', 'ISUZU', 'JAGUAR', 'JEEP', 'KIA',\n",
              "       'LAND ROVER', 'LEXUS', 'LINCOLN', 'MAZDA', 'MERCEDES-BENZ',\n",
              "       'NISSAN', 'OLDSMOBILE', 'PLYMOUTH', 'PONTIAC', 'PORSCHE', 'SAAB',\n",
              "       'SATURN', 'SUBARU', 'SUZUKI', 'TOYOTA', 'VOLKSWAGEN', 'VOLVO',\n",
              "       'BENTLEY', 'ROLLS-ROYCE', 'MASERATI', 'MINI', 'MITSUBISHI',\n",
              "       'SMART', 'HUMMER', 'ASTON MARTIN', 'LAMBORGHINI', 'BUGATTI',\n",
              "       'SCION', 'FIAT', 'RAM', 'SRT', 'ALFA ROMEO', 'GENESIS', 'Acura',\n",
              "       'Alfa Romeo', 'Aston Martin', 'Audi', 'Bentley', 'Bugatti',\n",
              "       'Buick', 'Cadillac', 'Chevrolet', 'Chrysler', 'Dodge', 'Ford',\n",
              "       'Genesis', 'Honda', 'Hyundai', 'Infiniti', 'Jaguar', 'Jeep', 'Kia',\n",
              "       'Lamborghini', 'Land Rover', 'Lexus', 'Lincoln', 'Maserati',\n",
              "       'Mazda', 'Mercedes-Benz', 'Mitsubishi', 'Nissan', 'Porsche', 'Ram',\n",
              "       'Rolls-Royce', 'Subaru', 'Toyota', 'Volkswagen', 'Volvo'],\n",
              "      dtype=object)"
            ]
          },
          "execution_count": 8,
          "metadata": {},
          "output_type": "execute_result"
        }
      ],
      "source": [
        "#Brands involved in dataframe\n",
        "data['MAKE'].unique()"
      ]
    },
    {
      "cell_type": "code",
      "execution_count": null,
      "metadata": {
        "colab": {
          "base_uri": "https://localhost:8080/"
        },
        "id": "CgT3naPnzTlS",
        "outputId": "69fe2dc5-f8e5-40c7-d5b1-20c26be32940"
      },
      "outputs": [
        {
          "data": {
            "text/plain": [
              "array(['COMPACT', 'MID-SIZE', 'SUBCOMPACT', 'STATION WAGON - MID-SIZE',\n",
              "       'MINICOMPACT', 'TWO-SEATER', 'STATION WAGON - SMALL', 'FULL-SIZE',\n",
              "       'SUV', 'VAN - CARGO', 'VAN - PASSENGER', 'PICKUP TRUCK - STANDARD',\n",
              "       'PICKUP TRUCK - SMALL', 'MINIVAN', 'SUV - STANDARD',\n",
              "       'SPECIAL PURPOSE VEHICLE', 'SUV - SMALL', 'Compact', 'SUV: Small',\n",
              "       'Two-seater', 'Mid-size', 'Minicompact', 'Subcompact',\n",
              "       'Station wagon: Small', 'Full-size', 'SUV: Standard',\n",
              "       'Special purpose vehicle', 'Pickup truck: Small',\n",
              "       'Pickup truck: Standard', 'Minivan', 'Van: Passenger',\n",
              "       'Station wagon: Mid-size'], dtype=object)"
            ]
          },
          "execution_count": 9,
          "metadata": {},
          "output_type": "execute_result"
        }
      ],
      "source": [
        "#Body-type of Vehicle\n",
        "data['VEHICLE CLASS'].unique()"
      ]
    },
    {
      "cell_type": "code",
      "execution_count": null,
      "metadata": {
        "colab": {
          "base_uri": "https://localhost:8080/",
          "height": 380
        },
        "id": "C1KXCElrzZkW",
        "outputId": "23e97007-1154-46fc-fd20-8f4986016107"
      },
      "outputs": [
        {
          "data": {
            "text/html": [
              "\n",
              "  <div id=\"df-a2112077-2a67-463e-a126-b4699130ac50\" class=\"colab-df-container\">\n",
              "    <div>\n",
              "<style scoped>\n",
              "    .dataframe tbody tr th:only-of-type {\n",
              "        vertical-align: middle;\n",
              "    }\n",
              "\n",
              "    .dataframe tbody tr th {\n",
              "        vertical-align: top;\n",
              "    }\n",
              "\n",
              "    .dataframe thead th {\n",
              "        text-align: right;\n",
              "    }\n",
              "</style>\n",
              "<table border=\"1\" class=\"dataframe\">\n",
              "  <thead>\n",
              "    <tr style=\"text-align: right;\">\n",
              "      <th></th>\n",
              "      <th>YEAR</th>\n",
              "      <th>MAKE</th>\n",
              "      <th>MODEL</th>\n",
              "      <th>VEHICLE CLASS</th>\n",
              "      <th>ENGINE SIZE</th>\n",
              "      <th>CYLINDERS</th>\n",
              "      <th>TRANSMISSION</th>\n",
              "      <th>FUEL</th>\n",
              "      <th>FUEL CONSUMPTION</th>\n",
              "      <th>HWY (L/100 km)</th>\n",
              "      <th>COMB (L/100 km)</th>\n",
              "      <th>COMB (mpg)</th>\n",
              "      <th>EMISSIONS</th>\n",
              "    </tr>\n",
              "  </thead>\n",
              "  <tbody>\n",
              "    <tr>\n",
              "      <th>2313</th>\n",
              "      <td>2003</td>\n",
              "      <td>FERRARI</td>\n",
              "      <td>ENZO</td>\n",
              "      <td>TWO-SEATER</td>\n",
              "      <td>6.0</td>\n",
              "      <td>12</td>\n",
              "      <td>AS6</td>\n",
              "      <td>Z</td>\n",
              "      <td>30.6</td>\n",
              "      <td>17.6</td>\n",
              "      <td>24.8</td>\n",
              "      <td>11</td>\n",
              "      <td>570</td>\n",
              "    </tr>\n",
              "    <tr>\n",
              "      <th>14511</th>\n",
              "      <td>2015</td>\n",
              "      <td>CHEVROLET</td>\n",
              "      <td>EXPRESS 3500 PASSENGER FFV</td>\n",
              "      <td>VAN - PASSENGER</td>\n",
              "      <td>6.0</td>\n",
              "      <td>8</td>\n",
              "      <td>A6</td>\n",
              "      <td>E</td>\n",
              "      <td>30.6</td>\n",
              "      <td>20.6</td>\n",
              "      <td>26.1</td>\n",
              "      <td>11</td>\n",
              "      <td>418</td>\n",
              "    </tr>\n",
              "    <tr>\n",
              "      <th>14716</th>\n",
              "      <td>2015</td>\n",
              "      <td>GMC</td>\n",
              "      <td>SAVANA 3500 PASSENGER FFV</td>\n",
              "      <td>VAN - PASSENGER</td>\n",
              "      <td>6.0</td>\n",
              "      <td>8</td>\n",
              "      <td>A6</td>\n",
              "      <td>E</td>\n",
              "      <td>30.6</td>\n",
              "      <td>20.6</td>\n",
              "      <td>26.1</td>\n",
              "      <td>11</td>\n",
              "      <td>418</td>\n",
              "    </tr>\n",
              "    <tr>\n",
              "      <th>14507</th>\n",
              "      <td>2015</td>\n",
              "      <td>CHEVROLET</td>\n",
              "      <td>EXPRESS 2500 PASSENGER FFV</td>\n",
              "      <td>VAN - PASSENGER</td>\n",
              "      <td>6.0</td>\n",
              "      <td>8</td>\n",
              "      <td>A6</td>\n",
              "      <td>E</td>\n",
              "      <td>30.3</td>\n",
              "      <td>20.5</td>\n",
              "      <td>25.9</td>\n",
              "      <td>11</td>\n",
              "      <td>414</td>\n",
              "    </tr>\n",
              "    <tr>\n",
              "      <th>14712</th>\n",
              "      <td>2015</td>\n",
              "      <td>GMC</td>\n",
              "      <td>SAVANA 2500 PASSENGER FFV</td>\n",
              "      <td>VAN - PASSENGER</td>\n",
              "      <td>6.0</td>\n",
              "      <td>8</td>\n",
              "      <td>A6</td>\n",
              "      <td>E</td>\n",
              "      <td>30.3</td>\n",
              "      <td>20.5</td>\n",
              "      <td>25.9</td>\n",
              "      <td>11</td>\n",
              "      <td>414</td>\n",
              "    </tr>\n",
              "  </tbody>\n",
              "</table>\n",
              "</div>\n",
              "    <div class=\"colab-df-buttons\">\n",
              "\n",
              "  <div class=\"colab-df-container\">\n",
              "    <button class=\"colab-df-convert\" onclick=\"convertToInteractive('df-a2112077-2a67-463e-a126-b4699130ac50')\"\n",
              "            title=\"Convert this dataframe to an interactive table.\"\n",
              "            style=\"display:none;\">\n",
              "\n",
              "  <svg xmlns=\"http://www.w3.org/2000/svg\" height=\"24px\" viewBox=\"0 -960 960 960\">\n",
              "    <path d=\"M120-120v-720h720v720H120Zm60-500h600v-160H180v160Zm220 220h160v-160H400v160Zm0 220h160v-160H400v160ZM180-400h160v-160H180v160Zm440 0h160v-160H620v160ZM180-180h160v-160H180v160Zm440 0h160v-160H620v160Z\"/>\n",
              "  </svg>\n",
              "    </button>\n",
              "\n",
              "  <style>\n",
              "    .colab-df-container {\n",
              "      display:flex;\n",
              "      gap: 12px;\n",
              "    }\n",
              "\n",
              "    .colab-df-convert {\n",
              "      background-color: #E8F0FE;\n",
              "      border: none;\n",
              "      border-radius: 50%;\n",
              "      cursor: pointer;\n",
              "      display: none;\n",
              "      fill: #1967D2;\n",
              "      height: 32px;\n",
              "      padding: 0 0 0 0;\n",
              "      width: 32px;\n",
              "    }\n",
              "\n",
              "    .colab-df-convert:hover {\n",
              "      background-color: #E2EBFA;\n",
              "      box-shadow: 0px 1px 2px rgba(60, 64, 67, 0.3), 0px 1px 3px 1px rgba(60, 64, 67, 0.15);\n",
              "      fill: #174EA6;\n",
              "    }\n",
              "\n",
              "    .colab-df-buttons div {\n",
              "      margin-bottom: 4px;\n",
              "    }\n",
              "\n",
              "    [theme=dark] .colab-df-convert {\n",
              "      background-color: #3B4455;\n",
              "      fill: #D2E3FC;\n",
              "    }\n",
              "\n",
              "    [theme=dark] .colab-df-convert:hover {\n",
              "      background-color: #434B5C;\n",
              "      box-shadow: 0px 1px 3px 1px rgba(0, 0, 0, 0.15);\n",
              "      filter: drop-shadow(0px 1px 2px rgba(0, 0, 0, 0.3));\n",
              "      fill: #FFFFFF;\n",
              "    }\n",
              "  </style>\n",
              "\n",
              "    <script>\n",
              "      const buttonEl =\n",
              "        document.querySelector('#df-a2112077-2a67-463e-a126-b4699130ac50 button.colab-df-convert');\n",
              "      buttonEl.style.display =\n",
              "        google.colab.kernel.accessAllowed ? 'block' : 'none';\n",
              "\n",
              "      async function convertToInteractive(key) {\n",
              "        const element = document.querySelector('#df-a2112077-2a67-463e-a126-b4699130ac50');\n",
              "        const dataTable =\n",
              "          await google.colab.kernel.invokeFunction('convertToInteractive',\n",
              "                                                    [key], {});\n",
              "        if (!dataTable) return;\n",
              "\n",
              "        const docLinkHtml = 'Like what you see? Visit the ' +\n",
              "          '<a target=\"_blank\" href=https://colab.research.google.com/notebooks/data_table.ipynb>data table notebook</a>'\n",
              "          + ' to learn more about interactive tables.';\n",
              "        element.innerHTML = '';\n",
              "        dataTable['output_type'] = 'display_data';\n",
              "        await google.colab.output.renderOutput(dataTable, element);\n",
              "        const docLink = document.createElement('div');\n",
              "        docLink.innerHTML = docLinkHtml;\n",
              "        element.appendChild(docLink);\n",
              "      }\n",
              "    </script>\n",
              "  </div>\n",
              "\n",
              "\n",
              "<div id=\"df-57452126-6a67-4f85-b4a2-c27afe19bbe4\">\n",
              "  <button class=\"colab-df-quickchart\" onclick=\"quickchart('df-57452126-6a67-4f85-b4a2-c27afe19bbe4')\"\n",
              "            title=\"Suggest charts.\"\n",
              "            style=\"display:none;\">\n",
              "\n",
              "<svg xmlns=\"http://www.w3.org/2000/svg\" height=\"24px\"viewBox=\"0 0 24 24\"\n",
              "     width=\"24px\">\n",
              "    <g>\n",
              "        <path d=\"M19 3H5c-1.1 0-2 .9-2 2v14c0 1.1.9 2 2 2h14c1.1 0 2-.9 2-2V5c0-1.1-.9-2-2-2zM9 17H7v-7h2v7zm4 0h-2V7h2v10zm4 0h-2v-4h2v4z\"/>\n",
              "    </g>\n",
              "</svg>\n",
              "  </button>\n",
              "\n",
              "<style>\n",
              "  .colab-df-quickchart {\n",
              "      --bg-color: #E8F0FE;\n",
              "      --fill-color: #1967D2;\n",
              "      --hover-bg-color: #E2EBFA;\n",
              "      --hover-fill-color: #174EA6;\n",
              "      --disabled-fill-color: #AAA;\n",
              "      --disabled-bg-color: #DDD;\n",
              "  }\n",
              "\n",
              "  [theme=dark] .colab-df-quickchart {\n",
              "      --bg-color: #3B4455;\n",
              "      --fill-color: #D2E3FC;\n",
              "      --hover-bg-color: #434B5C;\n",
              "      --hover-fill-color: #FFFFFF;\n",
              "      --disabled-bg-color: #3B4455;\n",
              "      --disabled-fill-color: #666;\n",
              "  }\n",
              "\n",
              "  .colab-df-quickchart {\n",
              "    background-color: var(--bg-color);\n",
              "    border: none;\n",
              "    border-radius: 50%;\n",
              "    cursor: pointer;\n",
              "    display: none;\n",
              "    fill: var(--fill-color);\n",
              "    height: 32px;\n",
              "    padding: 0;\n",
              "    width: 32px;\n",
              "  }\n",
              "\n",
              "  .colab-df-quickchart:hover {\n",
              "    background-color: var(--hover-bg-color);\n",
              "    box-shadow: 0 1px 2px rgba(60, 64, 67, 0.3), 0 1px 3px 1px rgba(60, 64, 67, 0.15);\n",
              "    fill: var(--button-hover-fill-color);\n",
              "  }\n",
              "\n",
              "  .colab-df-quickchart-complete:disabled,\n",
              "  .colab-df-quickchart-complete:disabled:hover {\n",
              "    background-color: var(--disabled-bg-color);\n",
              "    fill: var(--disabled-fill-color);\n",
              "    box-shadow: none;\n",
              "  }\n",
              "\n",
              "  .colab-df-spinner {\n",
              "    border: 2px solid var(--fill-color);\n",
              "    border-color: transparent;\n",
              "    border-bottom-color: var(--fill-color);\n",
              "    animation:\n",
              "      spin 1s steps(1) infinite;\n",
              "  }\n",
              "\n",
              "  @keyframes spin {\n",
              "    0% {\n",
              "      border-color: transparent;\n",
              "      border-bottom-color: var(--fill-color);\n",
              "      border-left-color: var(--fill-color);\n",
              "    }\n",
              "    20% {\n",
              "      border-color: transparent;\n",
              "      border-left-color: var(--fill-color);\n",
              "      border-top-color: var(--fill-color);\n",
              "    }\n",
              "    30% {\n",
              "      border-color: transparent;\n",
              "      border-left-color: var(--fill-color);\n",
              "      border-top-color: var(--fill-color);\n",
              "      border-right-color: var(--fill-color);\n",
              "    }\n",
              "    40% {\n",
              "      border-color: transparent;\n",
              "      border-right-color: var(--fill-color);\n",
              "      border-top-color: var(--fill-color);\n",
              "    }\n",
              "    60% {\n",
              "      border-color: transparent;\n",
              "      border-right-color: var(--fill-color);\n",
              "    }\n",
              "    80% {\n",
              "      border-color: transparent;\n",
              "      border-right-color: var(--fill-color);\n",
              "      border-bottom-color: var(--fill-color);\n",
              "    }\n",
              "    90% {\n",
              "      border-color: transparent;\n",
              "      border-bottom-color: var(--fill-color);\n",
              "    }\n",
              "  }\n",
              "</style>\n",
              "\n",
              "  <script>\n",
              "    async function quickchart(key) {\n",
              "      const quickchartButtonEl =\n",
              "        document.querySelector('#' + key + ' button');\n",
              "      quickchartButtonEl.disabled = true;  // To prevent multiple clicks.\n",
              "      quickchartButtonEl.classList.add('colab-df-spinner');\n",
              "      try {\n",
              "        const charts = await google.colab.kernel.invokeFunction(\n",
              "            'suggestCharts', [key], {});\n",
              "      } catch (error) {\n",
              "        console.error('Error during call to suggestCharts:', error);\n",
              "      }\n",
              "      quickchartButtonEl.classList.remove('colab-df-spinner');\n",
              "      quickchartButtonEl.classList.add('colab-df-quickchart-complete');\n",
              "    }\n",
              "    (() => {\n",
              "      let quickchartButtonEl =\n",
              "        document.querySelector('#df-57452126-6a67-4f85-b4a2-c27afe19bbe4 button');\n",
              "      quickchartButtonEl.style.display =\n",
              "        google.colab.kernel.accessAllowed ? 'block' : 'none';\n",
              "    })();\n",
              "  </script>\n",
              "</div>\n",
              "    </div>\n",
              "  </div>\n"
            ],
            "text/plain": [
              "       YEAR       MAKE                       MODEL    VEHICLE CLASS  \\\n",
              "2313   2003    FERRARI                        ENZO       TWO-SEATER   \n",
              "14511  2015  CHEVROLET  EXPRESS 3500 PASSENGER FFV  VAN - PASSENGER   \n",
              "14716  2015        GMC   SAVANA 3500 PASSENGER FFV  VAN - PASSENGER   \n",
              "14507  2015  CHEVROLET  EXPRESS 2500 PASSENGER FFV  VAN - PASSENGER   \n",
              "14712  2015        GMC   SAVANA 2500 PASSENGER FFV  VAN - PASSENGER   \n",
              "\n",
              "       ENGINE SIZE  CYLINDERS TRANSMISSION FUEL  FUEL CONSUMPTION  \\\n",
              "2313           6.0         12          AS6    Z              30.6   \n",
              "14511          6.0          8           A6    E              30.6   \n",
              "14716          6.0          8           A6    E              30.6   \n",
              "14507          6.0          8           A6    E              30.3   \n",
              "14712          6.0          8           A6    E              30.3   \n",
              "\n",
              "       HWY (L/100 km)  COMB (L/100 km)  COMB (mpg)  EMISSIONS  \n",
              "2313             17.6             24.8          11        570  \n",
              "14511            20.6             26.1          11        418  \n",
              "14716            20.6             26.1          11        418  \n",
              "14507            20.5             25.9          11        414  \n",
              "14712            20.5             25.9          11        414  "
            ]
          },
          "execution_count": 10,
          "metadata": {},
          "output_type": "execute_result"
        }
      ],
      "source": [
        "data.nlargest(5,'FUEL CONSUMPTION')"
      ]
    },
    {
      "cell_type": "code",
      "execution_count": null,
      "metadata": {
        "colab": {
          "base_uri": "https://localhost:8080/",
          "height": 276
        },
        "id": "EiwuVSU_zbuZ",
        "outputId": "d33f8d44-63b7-4b22-e28d-0afe69de34fa"
      },
      "outputs": [
        {
          "data": {
            "text/html": [
              "\n",
              "  <div id=\"df-333113bd-2563-47a8-b9c3-9448b3d28686\" class=\"colab-df-container\">\n",
              "    <div>\n",
              "<style scoped>\n",
              "    .dataframe tbody tr th:only-of-type {\n",
              "        vertical-align: middle;\n",
              "    }\n",
              "\n",
              "    .dataframe tbody tr th {\n",
              "        vertical-align: top;\n",
              "    }\n",
              "\n",
              "    .dataframe thead th {\n",
              "        text-align: right;\n",
              "    }\n",
              "</style>\n",
              "<table border=\"1\" class=\"dataframe\">\n",
              "  <thead>\n",
              "    <tr style=\"text-align: right;\">\n",
              "      <th></th>\n",
              "      <th>YEAR</th>\n",
              "      <th>MAKE</th>\n",
              "      <th>MODEL</th>\n",
              "      <th>VEHICLE CLASS</th>\n",
              "      <th>ENGINE SIZE</th>\n",
              "      <th>CYLINDERS</th>\n",
              "      <th>TRANSMISSION</th>\n",
              "      <th>FUEL</th>\n",
              "      <th>FUEL CONSUMPTION</th>\n",
              "      <th>HWY (L/100 km)</th>\n",
              "      <th>COMB (L/100 km)</th>\n",
              "      <th>COMB (mpg)</th>\n",
              "      <th>EMISSIONS</th>\n",
              "    </tr>\n",
              "  </thead>\n",
              "  <tbody>\n",
              "    <tr>\n",
              "      <th>12084</th>\n",
              "      <td>2012</td>\n",
              "      <td>TOYOTA</td>\n",
              "      <td>PRIUS c</td>\n",
              "      <td>COMPACT</td>\n",
              "      <td>1.5</td>\n",
              "      <td>4</td>\n",
              "      <td>AV</td>\n",
              "      <td>X</td>\n",
              "      <td>3.5</td>\n",
              "      <td>4.0</td>\n",
              "      <td>3.7</td>\n",
              "      <td>76</td>\n",
              "      <td>85</td>\n",
              "    </tr>\n",
              "    <tr>\n",
              "      <th>13143</th>\n",
              "      <td>2013</td>\n",
              "      <td>TOYOTA</td>\n",
              "      <td>PRIUS c</td>\n",
              "      <td>COMPACT</td>\n",
              "      <td>1.5</td>\n",
              "      <td>4</td>\n",
              "      <td>AV</td>\n",
              "      <td>X</td>\n",
              "      <td>3.5</td>\n",
              "      <td>4.0</td>\n",
              "      <td>3.7</td>\n",
              "      <td>76</td>\n",
              "      <td>85</td>\n",
              "    </tr>\n",
              "    <tr>\n",
              "      <th>14184</th>\n",
              "      <td>2014</td>\n",
              "      <td>TOYOTA</td>\n",
              "      <td>PRIUS c</td>\n",
              "      <td>COMPACT</td>\n",
              "      <td>1.5</td>\n",
              "      <td>4</td>\n",
              "      <td>AV</td>\n",
              "      <td>X</td>\n",
              "      <td>3.6</td>\n",
              "      <td>4.0</td>\n",
              "      <td>3.8</td>\n",
              "      <td>74</td>\n",
              "      <td>87</td>\n",
              "    </tr>\n",
              "    <tr>\n",
              "      <th>9912</th>\n",
              "      <td>2010</td>\n",
              "      <td>TOYOTA</td>\n",
              "      <td>PRIUS</td>\n",
              "      <td>MID-SIZE</td>\n",
              "      <td>1.8</td>\n",
              "      <td>4</td>\n",
              "      <td>AV</td>\n",
              "      <td>X</td>\n",
              "      <td>3.7</td>\n",
              "      <td>4.0</td>\n",
              "      <td>3.8</td>\n",
              "      <td>74</td>\n",
              "      <td>87</td>\n",
              "    </tr>\n",
              "    <tr>\n",
              "      <th>11009</th>\n",
              "      <td>2011</td>\n",
              "      <td>TOYOTA</td>\n",
              "      <td>PRIUS</td>\n",
              "      <td>MID-SIZE</td>\n",
              "      <td>1.8</td>\n",
              "      <td>4</td>\n",
              "      <td>AV</td>\n",
              "      <td>X</td>\n",
              "      <td>3.7</td>\n",
              "      <td>4.0</td>\n",
              "      <td>3.8</td>\n",
              "      <td>74</td>\n",
              "      <td>87</td>\n",
              "    </tr>\n",
              "  </tbody>\n",
              "</table>\n",
              "</div>\n",
              "    <div class=\"colab-df-buttons\">\n",
              "\n",
              "  <div class=\"colab-df-container\">\n",
              "    <button class=\"colab-df-convert\" onclick=\"convertToInteractive('df-333113bd-2563-47a8-b9c3-9448b3d28686')\"\n",
              "            title=\"Convert this dataframe to an interactive table.\"\n",
              "            style=\"display:none;\">\n",
              "\n",
              "  <svg xmlns=\"http://www.w3.org/2000/svg\" height=\"24px\" viewBox=\"0 -960 960 960\">\n",
              "    <path d=\"M120-120v-720h720v720H120Zm60-500h600v-160H180v160Zm220 220h160v-160H400v160Zm0 220h160v-160H400v160ZM180-400h160v-160H180v160Zm440 0h160v-160H620v160ZM180-180h160v-160H180v160Zm440 0h160v-160H620v160Z\"/>\n",
              "  </svg>\n",
              "    </button>\n",
              "\n",
              "  <style>\n",
              "    .colab-df-container {\n",
              "      display:flex;\n",
              "      gap: 12px;\n",
              "    }\n",
              "\n",
              "    .colab-df-convert {\n",
              "      background-color: #E8F0FE;\n",
              "      border: none;\n",
              "      border-radius: 50%;\n",
              "      cursor: pointer;\n",
              "      display: none;\n",
              "      fill: #1967D2;\n",
              "      height: 32px;\n",
              "      padding: 0 0 0 0;\n",
              "      width: 32px;\n",
              "    }\n",
              "\n",
              "    .colab-df-convert:hover {\n",
              "      background-color: #E2EBFA;\n",
              "      box-shadow: 0px 1px 2px rgba(60, 64, 67, 0.3), 0px 1px 3px 1px rgba(60, 64, 67, 0.15);\n",
              "      fill: #174EA6;\n",
              "    }\n",
              "\n",
              "    .colab-df-buttons div {\n",
              "      margin-bottom: 4px;\n",
              "    }\n",
              "\n",
              "    [theme=dark] .colab-df-convert {\n",
              "      background-color: #3B4455;\n",
              "      fill: #D2E3FC;\n",
              "    }\n",
              "\n",
              "    [theme=dark] .colab-df-convert:hover {\n",
              "      background-color: #434B5C;\n",
              "      box-shadow: 0px 1px 3px 1px rgba(0, 0, 0, 0.15);\n",
              "      filter: drop-shadow(0px 1px 2px rgba(0, 0, 0, 0.3));\n",
              "      fill: #FFFFFF;\n",
              "    }\n",
              "  </style>\n",
              "\n",
              "    <script>\n",
              "      const buttonEl =\n",
              "        document.querySelector('#df-333113bd-2563-47a8-b9c3-9448b3d28686 button.colab-df-convert');\n",
              "      buttonEl.style.display =\n",
              "        google.colab.kernel.accessAllowed ? 'block' : 'none';\n",
              "\n",
              "      async function convertToInteractive(key) {\n",
              "        const element = document.querySelector('#df-333113bd-2563-47a8-b9c3-9448b3d28686');\n",
              "        const dataTable =\n",
              "          await google.colab.kernel.invokeFunction('convertToInteractive',\n",
              "                                                    [key], {});\n",
              "        if (!dataTable) return;\n",
              "\n",
              "        const docLinkHtml = 'Like what you see? Visit the ' +\n",
              "          '<a target=\"_blank\" href=https://colab.research.google.com/notebooks/data_table.ipynb>data table notebook</a>'\n",
              "          + ' to learn more about interactive tables.';\n",
              "        element.innerHTML = '';\n",
              "        dataTable['output_type'] = 'display_data';\n",
              "        await google.colab.output.renderOutput(dataTable, element);\n",
              "        const docLink = document.createElement('div');\n",
              "        docLink.innerHTML = docLinkHtml;\n",
              "        element.appendChild(docLink);\n",
              "      }\n",
              "    </script>\n",
              "  </div>\n",
              "\n",
              "\n",
              "<div id=\"df-83fc0ce5-d2eb-475a-991f-5b6ecb503f0d\">\n",
              "  <button class=\"colab-df-quickchart\" onclick=\"quickchart('df-83fc0ce5-d2eb-475a-991f-5b6ecb503f0d')\"\n",
              "            title=\"Suggest charts.\"\n",
              "            style=\"display:none;\">\n",
              "\n",
              "<svg xmlns=\"http://www.w3.org/2000/svg\" height=\"24px\"viewBox=\"0 0 24 24\"\n",
              "     width=\"24px\">\n",
              "    <g>\n",
              "        <path d=\"M19 3H5c-1.1 0-2 .9-2 2v14c0 1.1.9 2 2 2h14c1.1 0 2-.9 2-2V5c0-1.1-.9-2-2-2zM9 17H7v-7h2v7zm4 0h-2V7h2v10zm4 0h-2v-4h2v4z\"/>\n",
              "    </g>\n",
              "</svg>\n",
              "  </button>\n",
              "\n",
              "<style>\n",
              "  .colab-df-quickchart {\n",
              "      --bg-color: #E8F0FE;\n",
              "      --fill-color: #1967D2;\n",
              "      --hover-bg-color: #E2EBFA;\n",
              "      --hover-fill-color: #174EA6;\n",
              "      --disabled-fill-color: #AAA;\n",
              "      --disabled-bg-color: #DDD;\n",
              "  }\n",
              "\n",
              "  [theme=dark] .colab-df-quickchart {\n",
              "      --bg-color: #3B4455;\n",
              "      --fill-color: #D2E3FC;\n",
              "      --hover-bg-color: #434B5C;\n",
              "      --hover-fill-color: #FFFFFF;\n",
              "      --disabled-bg-color: #3B4455;\n",
              "      --disabled-fill-color: #666;\n",
              "  }\n",
              "\n",
              "  .colab-df-quickchart {\n",
              "    background-color: var(--bg-color);\n",
              "    border: none;\n",
              "    border-radius: 50%;\n",
              "    cursor: pointer;\n",
              "    display: none;\n",
              "    fill: var(--fill-color);\n",
              "    height: 32px;\n",
              "    padding: 0;\n",
              "    width: 32px;\n",
              "  }\n",
              "\n",
              "  .colab-df-quickchart:hover {\n",
              "    background-color: var(--hover-bg-color);\n",
              "    box-shadow: 0 1px 2px rgba(60, 64, 67, 0.3), 0 1px 3px 1px rgba(60, 64, 67, 0.15);\n",
              "    fill: var(--button-hover-fill-color);\n",
              "  }\n",
              "\n",
              "  .colab-df-quickchart-complete:disabled,\n",
              "  .colab-df-quickchart-complete:disabled:hover {\n",
              "    background-color: var(--disabled-bg-color);\n",
              "    fill: var(--disabled-fill-color);\n",
              "    box-shadow: none;\n",
              "  }\n",
              "\n",
              "  .colab-df-spinner {\n",
              "    border: 2px solid var(--fill-color);\n",
              "    border-color: transparent;\n",
              "    border-bottom-color: var(--fill-color);\n",
              "    animation:\n",
              "      spin 1s steps(1) infinite;\n",
              "  }\n",
              "\n",
              "  @keyframes spin {\n",
              "    0% {\n",
              "      border-color: transparent;\n",
              "      border-bottom-color: var(--fill-color);\n",
              "      border-left-color: var(--fill-color);\n",
              "    }\n",
              "    20% {\n",
              "      border-color: transparent;\n",
              "      border-left-color: var(--fill-color);\n",
              "      border-top-color: var(--fill-color);\n",
              "    }\n",
              "    30% {\n",
              "      border-color: transparent;\n",
              "      border-left-color: var(--fill-color);\n",
              "      border-top-color: var(--fill-color);\n",
              "      border-right-color: var(--fill-color);\n",
              "    }\n",
              "    40% {\n",
              "      border-color: transparent;\n",
              "      border-right-color: var(--fill-color);\n",
              "      border-top-color: var(--fill-color);\n",
              "    }\n",
              "    60% {\n",
              "      border-color: transparent;\n",
              "      border-right-color: var(--fill-color);\n",
              "    }\n",
              "    80% {\n",
              "      border-color: transparent;\n",
              "      border-right-color: var(--fill-color);\n",
              "      border-bottom-color: var(--fill-color);\n",
              "    }\n",
              "    90% {\n",
              "      border-color: transparent;\n",
              "      border-bottom-color: var(--fill-color);\n",
              "    }\n",
              "  }\n",
              "</style>\n",
              "\n",
              "  <script>\n",
              "    async function quickchart(key) {\n",
              "      const quickchartButtonEl =\n",
              "        document.querySelector('#' + key + ' button');\n",
              "      quickchartButtonEl.disabled = true;  // To prevent multiple clicks.\n",
              "      quickchartButtonEl.classList.add('colab-df-spinner');\n",
              "      try {\n",
              "        const charts = await google.colab.kernel.invokeFunction(\n",
              "            'suggestCharts', [key], {});\n",
              "      } catch (error) {\n",
              "        console.error('Error during call to suggestCharts:', error);\n",
              "      }\n",
              "      quickchartButtonEl.classList.remove('colab-df-spinner');\n",
              "      quickchartButtonEl.classList.add('colab-df-quickchart-complete');\n",
              "    }\n",
              "    (() => {\n",
              "      let quickchartButtonEl =\n",
              "        document.querySelector('#df-83fc0ce5-d2eb-475a-991f-5b6ecb503f0d button');\n",
              "      quickchartButtonEl.style.display =\n",
              "        google.colab.kernel.accessAllowed ? 'block' : 'none';\n",
              "    })();\n",
              "  </script>\n",
              "</div>\n",
              "    </div>\n",
              "  </div>\n"
            ],
            "text/plain": [
              "       YEAR    MAKE    MODEL VEHICLE CLASS  ENGINE SIZE  CYLINDERS  \\\n",
              "12084  2012  TOYOTA  PRIUS c       COMPACT          1.5          4   \n",
              "13143  2013  TOYOTA  PRIUS c       COMPACT          1.5          4   \n",
              "14184  2014  TOYOTA  PRIUS c       COMPACT          1.5          4   \n",
              "9912   2010  TOYOTA    PRIUS      MID-SIZE          1.8          4   \n",
              "11009  2011  TOYOTA    PRIUS      MID-SIZE          1.8          4   \n",
              "\n",
              "      TRANSMISSION FUEL  FUEL CONSUMPTION  HWY (L/100 km)  COMB (L/100 km)  \\\n",
              "12084           AV    X               3.5             4.0              3.7   \n",
              "13143           AV    X               3.5             4.0              3.7   \n",
              "14184           AV    X               3.6             4.0              3.8   \n",
              "9912            AV    X               3.7             4.0              3.8   \n",
              "11009           AV    X               3.7             4.0              3.8   \n",
              "\n",
              "       COMB (mpg)  EMISSIONS  \n",
              "12084          76         85  \n",
              "13143          76         85  \n",
              "14184          74         87  \n",
              "9912           74         87  \n",
              "11009          74         87  "
            ]
          },
          "execution_count": 11,
          "metadata": {},
          "output_type": "execute_result"
        }
      ],
      "source": [
        "data.nsmallest(5,'FUEL CONSUMPTION')"
      ]
    },
    {
      "cell_type": "code",
      "execution_count": null,
      "metadata": {
        "colab": {
          "base_uri": "https://localhost:8080/",
          "height": 623
        },
        "id": "Let64bsy4jQQ",
        "outputId": "bd1b80d7-2f8b-4ed1-fbf4-a858ee3a9bf2"
      },
      "outputs": [
        {
          "name": "stdout",
          "output_type": "stream",
          "text": [
            "       YEAR     MAKE       MODEL  FUEL CONSUMPTION  HWY (L/100 km)  \\\n",
            "22062  2022  Hyundai  IONIQ Blue               4.0             3.9   \n",
            "21117  2021  Hyundai  IONIQ Blue               4.0             3.9   \n",
            "20157  2020  Hyundai  IONIQ Blue               4.2             4.0   \n",
            "\n",
            "       COMB (L/100 km)  \n",
            "22062              4.0  \n",
            "21117              4.0  \n",
            "20157              4.1  \n"
          ]
        },
        {
          "data": {
            "text/plain": [
              "<Axes: xlabel='FUEL CONSUMPTION', ylabel='Count'>"
            ]
          },
          "execution_count": 62,
          "metadata": {},
          "output_type": "execute_result"
        },
        {
          "data": {
            "image/png": "[encoded data removed]",
            "text/plain": [
              "<Figure size 640x480 with 1 Axes>"
            ]
          },
          "metadata": {},
          "output_type": "display_data"
        }
      ],
      "source": [
        "import pandas as pd\n",
        "import seaborn as sns\n",
        "\n",
        "# Assuming you have a DataFrame named 'data' with the required data\n",
        "\n",
        "# Filter the data for the year range 2020-2022\n",
        "filtered_data = data[(data['YEAR'] >= 2020) & (data['YEAR'] <= 2022)]\n",
        "\n",
        "# Select relevant columns\n",
        "FUEL = filtered_data[['YEAR', 'MAKE', 'MODEL', 'FUEL CONSUMPTION', 'HWY (L/100 km)','COMB (L/100 km)']]\n",
        "\n",
        "# Sort the data by 'FUEL CONSUMPTION' in ascending order and select the top 3 rows\n",
        "top_three_lowest_consumption = FUEL.sort_values(by='FUEL CONSUMPTION').head(3)\n",
        "\n",
        "# Display the top three lowest consumption models\n",
        "print(top_three_lowest_consumption)\n",
        "\n",
        "# Create a histogram plot of the data\n",
        "sns.histplot(FUEL['FUEL CONSUMPTION'])\n"
      ]
    },
    {
      "cell_type": "markdown",
      "metadata": {
        "id": "lRAw9T6SE2d1"
      },
      "source": [
        "#### Clustering"
      ]
    },
    {
      "cell_type": "code",
      "execution_count": null,
      "metadata": {
        "colab": {
          "base_uri": "https://localhost:8080/"
        },
        "id": "eI9ne9yo_IKK",
        "outputId": "5cd7d95f-7550-403b-9a27-f343d56a5f7b"
      },
      "outputs": [
        {
          "name": "stderr",
          "output_type": "stream",
          "text": [
            "/usr/local/lib/python3.10/dist-packages/sklearn/cluster/_kmeans.py:870: FutureWarning: The default value of `n_init` will change from 10 to 'auto' in 1.4. Set the value of `n_init` explicitly to suppress the warning\n",
            "  warnings.warn(\n"
          ]
        },
        {
          "name": "stdout",
          "output_type": "stream",
          "text": [
            "       YEAR     MAKE       MODEL  HWY (L/100 km)  COMB (L/100 km)  Cluster\n",
            "22062  2022  Hyundai  IONIQ Blue             3.9              4.0        2\n",
            "21117  2021  Hyundai  IONIQ Blue             3.9              4.0        2\n",
            "20157  2020  Hyundai  IONIQ Blue             4.0              4.1        2\n"
          ]
        },
        {
          "name": "stderr",
          "output_type": "stream",
          "text": [
            "<ipython-input-64-7bb7e9ff1fa7>:15: SettingWithCopyWarning: \n",
            "A value is trying to be set on a copy of a slice from a DataFrame.\n",
            "Try using .loc[row_indexer,col_indexer] = value instead\n",
            "\n",
            "See the caveats in the documentation: https://pandas.pydata.org/pandas-docs/stable/user_guide/indexing.html#returning-a-view-versus-a-copy\n",
            "  FUEL['Cluster'] = kmeans.labels_\n"
          ]
        }
      ],
      "source": [
        "import pandas as pd\n",
        "from sklearn.cluster import KMeans\n",
        "\n",
        "# Assuming you have a DataFrame named 'data' with the required data\n",
        "# Filter the data for the year range 2020-2022\n",
        "filtered_data = data[(data['YEAR'] >= 2020) & (data['YEAR'] <= 2022)]\n",
        "\n",
        "# Select relevant columns\n",
        "FUEL = filtered_data[['YEAR','MAKE','MODEL', 'HWY (L/100 km)','COMB (L/100 km)']]\n",
        "\n",
        "# Perform K-Means clustering with k=3 (to find the top three clusters)\n",
        "kmeans = KMeans(n_clusters=3, random_state=0).fit(FUEL[['HWY (L/100 km)','COMB (L/100 km)']])\n",
        "\n",
        "# Add cluster labels to the data\n",
        "FUEL['Cluster'] = kmeans.labels_\n",
        "\n",
        "# Find the cluster with the lowest mean HWY (L/100 km) values\n",
        "cluster_means = FUEL.groupby('Cluster')['HWY (L/100 km)'].mean()\n",
        "lowest_cluster = cluster_means.idxmin()\n",
        "\n",
        "# Filter the data for the cluster with the lowest mean HWY (L/100 km) values\n",
        "lowest_cluster_data = FUEL[FUEL['Cluster'] == lowest_cluster]\n",
        "\n",
        "# Sort the data within the lowest cluster to find the top three lowest HWY consumption models\n",
        "top_three_lowest_hwys = lowest_cluster_data.sort_values(by='HWY (L/100 km)').head(3)\n",
        "\n",
        "# Display the top three lowest HWY consumption models\n",
        "print(top_three_lowest_hwys)"
      ]
    },
    {
      "cell_type": "markdown",
      "metadata": {
        "id": "q2BqcVP9E8db"
      },
      "source": [
        "#### Regression Analysis"
      ]
    },
    {
      "cell_type": "code",
      "execution_count": null,
      "metadata": {
        "colab": {
          "base_uri": "https://localhost:8080/"
        },
        "id": "wAxbkHXIheY-",
        "outputId": "e52b5a6d-e922-4b46-99ba-8a3dae9b0172"
      },
      "outputs": [
        {
          "name": "stdout",
          "output_type": "stream",
          "text": [
            "Model: 230i Coupe, Coefficient: -8.999999999999957\n",
            "Model: Escape AWD, Coefficient: -7.666666666666686\n",
            "Model: S 560 Cabriolet, Coefficient: -3.0000000000000173\n"
          ]
        }
      ],
      "source": [
        "import pandas as pd\n",
        "from sklearn.linear_model import LinearRegression\n",
        "\n",
        "# Load the dataset\n",
        "data = pd.read_csv(\"Fuel_Consumption_2000-2022.csv\")\n",
        "\n",
        "# Filter the data for the year range 2020-2022\n",
        "filtered_data = data[(data['YEAR'] >= 2020) & (data['YEAR'] <= 2022)]\n",
        "\n",
        "# Select relevant columns\n",
        "FUEL = filtered_data[['YEAR', 'MAKE', 'MODEL', 'HWY (L/100 km)', 'COMB (L/100 km)']]\n",
        "\n",
        "# Create a dictionary to store the regression results for each model\n",
        "model_regression_results = {}\n",
        "\n",
        "# Iterate through unique vehicle models and perform linear regression\n",
        "unique_models = FUEL['MODEL'].unique()\n",
        "for model in unique_models:\n",
        "    model_data = FUEL[FUEL['MODEL'] == model]\n",
        "\n",
        "    X = model_data[['HWY (L/100 km)']].values\n",
        "    y = model_data[['COMB (L/100 km)']].values\n",
        "\n",
        "    model_reg = LinearRegression()\n",
        "    model_reg.fit(X, y)\n",
        "\n",
        "    # Store the coefficients for each model\n",
        "    model_regression_results[model] = model_reg.coef_[0][0]\n",
        "\n",
        "# Sort models by their regression coefficients (lower coefficients represent lower consumption)\n",
        "sorted_models = sorted(model_regression_results, key=model_regression_results.get)\n",
        "\n",
        "# Select the top three models with the lowest coefficients\n",
        "top_three_lowest_consumption_models = sorted_models[:3]\n",
        "\n",
        "# Display the top three lowest consumption models\n",
        "for model in top_three_lowest_consumption_models:\n",
        "    print(f\"Model: {model}, Coefficient: {model_regression_results[model]}\")"
      ]
    },
    {
      "cell_type": "markdown",
      "metadata": {
        "id": "61o8Co4fNZxk"
      },
      "source": [
        "#### Machine Learning technique"
      ]
    },
    {
      "cell_type": "code",
      "execution_count": null,
      "metadata": {
        "colab": {
          "base_uri": "https://localhost:8080/"
        },
        "id": "HHAB3PHbbbCe",
        "outputId": "34f374fa-e8c8-4570-927c-3f2d1e1df26f"
      },
      "outputs": [
        {
          "name": "stdout",
          "output_type": "stream",
          "text": [
            "          MAKE       MODEL  YEAR  HWY (L/100 km)  Predicted\n",
            "21117  Hyundai  IONIQ Blue  2021             3.9        3.9\n",
            "22062  Hyundai  IONIQ Blue  2022             3.9        3.9\n",
            "20157  Hyundai  IONIQ Blue  2020             4.0        4.0\n"
          ]
        },
        {
          "name": "stderr",
          "output_type": "stream",
          "text": [
            "<ipython-input-54-b1f68b7bf565>:31: SettingWithCopyWarning: \n",
            "A value is trying to be set on a copy of a slice from a DataFrame.\n",
            "Try using .loc[row_indexer,col_indexer] = value instead\n",
            "\n",
            "See the caveats in the documentation: https://pandas.pydata.org/pandas-docs/stable/user_guide/indexing.html#returning-a-view-versus-a-copy\n",
            "  FUEL['Predicted'] = y_pred\n"
          ]
        }
      ],
      "source": [
        "import pandas as pd\n",
        "from sklearn.model_selection import train_test_split\n",
        "from sklearn.tree import DecisionTreeRegressor\n",
        "\n",
        "# Load the dataset\n",
        "data = pd.read_csv(\"Fuel_Consumption_2000-2022.csv\")\n",
        "\n",
        "# Filter the data for the year range 2020-2022\n",
        "filtered_data = data[(data['YEAR'] >= 2020) & (data['YEAR'] <= 2022)]\n",
        "\n",
        "# Select relevant columns\n",
        "FUEL = filtered_data[['MAKE', 'MODEL', 'YEAR', 'HWY (L/100 km)']]\n",
        "\n",
        "# Perform one-hot encoding on the 'MODEL' and 'MAKE' columns\n",
        "model_encoded = pd.get_dummies(FUEL[['MODEL', 'MAKE']], columns=['MODEL', 'MAKE'], prefix=['MODEL', 'MAKE'])\n",
        "\n",
        "# Combine the encoded features with 'HWY (L/100 km)' and 'YEAR'\n",
        "X = pd.concat([model_encoded, FUEL[['YEAR', 'HWY (L/100 km)']],], axis=1)\n",
        "y = FUEL['HWY (L/100 km)']\n",
        "\n",
        "# Create a decision tree regression model\n",
        "regressor = DecisionTreeRegressor(random_state=42)\n",
        "\n",
        "# Fit the model on the data\n",
        "regressor.fit(X, y)\n",
        "\n",
        "# Predict the values for the entire dataset\n",
        "y_pred = regressor.predict(X)\n",
        "\n",
        "# Add the predicted values to the DataFrame\n",
        "FUEL['Predicted'] = y_pred\n",
        "\n",
        "# Sort the data by predicted values (lowest predictions represent lowest consumption)\n",
        "top_three_lowest_hwys_models = FUEL.sort_values(by='Predicted').head(3)\n",
        "\n",
        "# Display the top three lowest HWY consumption models\n",
        "print(top_three_lowest_hwys_models[['MAKE', 'MODEL', 'YEAR', 'HWY (L/100 km)', 'Predicted']])\n"
      ]
    },
    {
      "cell_type": "code",
      "execution_count": null,
      "metadata": {
        "colab": {
          "base_uri": "https://localhost:8080/"
        },
        "id": "T5ATluLvigIf",
        "outputId": "289f32b1-7ab8-49e4-dff8-b032c83c7196"
      },
      "outputs": [
        {
          "name": "stdout",
          "output_type": "stream",
          "text": [
            "Top Three Lowest HWY Consumption Models:\n",
            "          MAKE       MODEL  YEAR  HWY (L/100 km)  Predicted_HWY\n",
            "21117  Hyundai  IONIQ Blue  2021             3.9            3.9\n",
            "22062  Hyundai  IONIQ Blue  2022             3.9            3.9\n",
            "20157  Hyundai  IONIQ Blue  2020             4.0            4.0\n",
            "\n",
            "Top Three Lowest COMB Consumption Models:\n",
            "          MAKE       MODEL  YEAR  COMB (L/100 km)  Predicted_COMB\n",
            "21117  Hyundai  IONIQ Blue  2021              4.0             4.0\n",
            "22062  Hyundai  IONIQ Blue  2022              4.0             4.0\n",
            "20157  Hyundai  IONIQ Blue  2020              4.1             4.1\n"
          ]
        },
        {
          "name": "stderr",
          "output_type": "stream",
          "text": [
            "<ipython-input-86-adcb4b481b3f>:31: SettingWithCopyWarning: \n",
            "A value is trying to be set on a copy of a slice from a DataFrame.\n",
            "Try using .loc[row_indexer,col_indexer] = value instead\n",
            "\n",
            "See the caveats in the documentation: https://pandas.pydata.org/pandas-docs/stable/user_guide/indexing.html#returning-a-view-versus-a-copy\n",
            "  FUEL['Predicted_HWY'] = y_pred[:, 0]  # Predicted HWY consumption\n",
            "<ipython-input-86-adcb4b481b3f>:32: SettingWithCopyWarning: \n",
            "A value is trying to be set on a copy of a slice from a DataFrame.\n",
            "Try using .loc[row_indexer,col_indexer] = value instead\n",
            "\n",
            "See the caveats in the documentation: https://pandas.pydata.org/pandas-docs/stable/user_guide/indexing.html#returning-a-view-versus-a-copy\n",
            "  FUEL['Predicted_COMB'] = y_pred[:, 1]  # Predicted COMB consumption\n"
          ]
        }
      ],
      "source": [
        "import pandas as pd\n",
        "from sklearn.model_selection import train_test_split\n",
        "from sklearn.tree import DecisionTreeRegressor\n",
        "\n",
        "# Load the dataset\n",
        "data = pd.read_csv(\"Fuel_Consumption_2000-2022.csv\")\n",
        "\n",
        "# Filter the data for the year range 2020-2022\n",
        "filtered_data = data[(data['YEAR'] >= 2020) & (data['YEAR'] <= 2022)]\n",
        "\n",
        "# Select relevant columns\n",
        "FUEL = filtered_data[['MAKE', 'MODEL', 'YEAR', 'HWY (L/100 km)', 'COMB (L/100 km)']]\n",
        "\n",
        "# Perform one-hot encoding on the 'MODEL' and 'MAKE' columns\n",
        "model_encoded = pd.get_dummies(FUEL[['MODEL', 'MAKE']], columns=['MODEL', 'MAKE'], prefix=['MODEL', 'MAKE'])\n",
        "\n",
        "# Combine the encoded features with 'YEAR', 'HWY (L/100 km)', and 'COMB (L/100 km)'\n",
        "X = pd.concat([model_encoded, FUEL[['YEAR', 'HWY (L/100 km)', 'COMB (L/100 km)']],], axis=1)\n",
        "y = FUEL[['HWY (L/100 km)', 'COMB (L/100 km)']]\n",
        "\n",
        "# Create a decision tree regression model\n",
        "regressor = DecisionTreeRegressor(random_state=42)\n",
        "\n",
        "# Fit the model on the data\n",
        "regressor.fit(X, y)\n",
        "\n",
        "# Predict the values for the entire dataset\n",
        "y_pred = regressor.predict(X)\n",
        "\n",
        "# Add the predicted values to the DataFrame\n",
        "FUEL['Predicted_HWY'] = y_pred[:, 0]  # Predicted HWY consumption\n",
        "FUEL['Predicted_COMB'] = y_pred[:, 1]  # Predicted COMB consumption\n",
        "\n",
        "# Sort the data by predicted values (lowest predictions represent lowest consumption)\n",
        "top_three_lowest_hwys_models = FUEL.sort_values(by='Predicted_HWY').head(3)\n",
        "top_three_lowest_comb_models = FUEL.sort_values(by='Predicted_COMB').head(3)\n",
        "\n",
        "# Display the top three lowest HWY and COMB consumption models\n",
        "print(\"Top Three Lowest HWY Consumption Models:\")\n",
        "print(top_three_lowest_hwys_models[['MAKE', 'MODEL', 'YEAR', 'HWY (L/100 km)', 'Predicted_HWY']])\n",
        "\n",
        "print(\"\\nTop Three Lowest COMB Consumption Models:\")\n",
        "print(top_three_lowest_comb_models[['MAKE', 'MODEL', 'YEAR', 'COMB (L/100 km)', 'Predicted_COMB']])\n"
      ]
    },
    {
      "cell_type": "markdown",
      "metadata": {
        "id": "dWRPz4OlOrjR"
      },
      "source": [
        "#### Mean Absolute Error"
      ]
    },
    {
      "cell_type": "code",
      "execution_count": null,
      "metadata": {
        "colab": {
          "base_uri": "https://localhost:8080/"
        },
        "id": "d-X1RteXSsWg",
        "outputId": "433dfdb2-12b9-4fc8-b001-784dd9e99a28"
      },
      "outputs": [
        {
          "name": "stdout",
          "output_type": "stream",
          "text": [
            "                   MODEL  HWY (L/100 km)\n",
            "544           IONIQ Blue        3.933333\n",
            "543                IONIQ        4.133333\n",
            "377  Elantra Hybrid Blue        4.200000\n",
            "                   MODEL  HWY (L/100 km)       MAE\n",
            "544           IONIQ Blue        3.933333  0.044444\n",
            "543                IONIQ        4.133333  0.044444\n",
            "377  Elantra Hybrid Blue        4.200000  0.000000\n"
          ]
        },
        {
          "name": "stderr",
          "output_type": "stream",
          "text": [
            "<ipython-input-41-19ffc7320a92>:36: SettingWithCopyWarning: \n",
            "A value is trying to be set on a copy of a slice from a DataFrame.\n",
            "Try using .loc[row_indexer,col_indexer] = value instead\n",
            "\n",
            "See the caveats in the documentation: https://pandas.pydata.org/pandas-docs/stable/user_guide/indexing.html#returning-a-view-versus-a-copy\n",
            "  top_three_lowest_hwys['MAE'] = mae_values\n"
          ]
        }
      ],
      "source": [
        "import pandas as pd\n",
        "from sklearn.linear_model import LinearRegression\n",
        "from sklearn.metrics import mean_absolute_error\n",
        "\n",
        "# Load the dataset\n",
        "data = pd.read_csv(\"Fuel_Consumption_2000-2022.csv\")\n",
        "\n",
        "# Filter the data for the year range 2020-2022\n",
        "filtered_data = data[(data['YEAR'] >= 2020) & (data['YEAR'] <= 2022)]\n",
        "\n",
        "# Select relevant columns\n",
        "FUEL = filtered_data[['YEAR','MAKE','MODEL', 'HWY (L/100 km)']]\n",
        "\n",
        "# Group the data by 'MODEL' and calculate the mean HWY (L/100 km) for each model\n",
        "model_mean_hwy = FUEL.groupby('MODEL')['HWY (L/100 km)'].mean().reset_index()\n",
        "\n",
        "# Sort the models by mean HWY (L/100 km) in ascending order\n",
        "model_mean_hwy = model_mean_hwy.sort_values(by='HWY (L/100 km)')\n",
        "\n",
        "# Select the top three models with the lowest mean HWY consumption\n",
        "top_three_lowest_hwys = model_mean_hwy.head(3)\n",
        "\n",
        "# Display the top three lowest HWY consumption models\n",
        "print(top_three_lowest_hwys)\n",
        "\n",
        "# Calculate the MAE for each model and the actual data\n",
        "mae_values = []\n",
        "for model in top_three_lowest_hwys['MODEL']:\n",
        "    model_data = filtered_data[filtered_data['MODEL'] == model]\n",
        "    y_true = model_data['HWY (L/100 km)']\n",
        "    y_pred = [model_mean_hwy[model_mean_hwy['MODEL'] == model]['HWY (L/100 km)'].values[0]] * len(y_true)\n",
        "    mae = mean_absolute_error(y_true, y_pred)\n",
        "    mae_values.append(mae)\n",
        "\n",
        "# Add MAE values to the DataFrame\n",
        "top_three_lowest_hwys['MAE'] = mae_values\n",
        "\n",
        "# Display the top three models with the lowest MAE\n",
        "print(top_three_lowest_hwys)"
      ]
    },
    {
      "cell_type": "markdown",
      "metadata": {
        "id": "55v6vxUJnGrz"
      },
      "source": [
        "#### with adding COMB (L/100)"
      ]
    },
    {
      "cell_type": "code",
      "execution_count": null,
      "metadata": {
        "colab": {
          "base_uri": "https://localhost:8080/"
        },
        "id": "CcnLj7E7me6U",
        "outputId": "35edc771-7500-433b-b902-e800d17bc66e"
      },
      "outputs": [
        {
          "name": "stdout",
          "output_type": "stream",
          "text": [
            "Top Three Lowest Combined Consumption Models:\n",
            "                   MODEL  HWY (L/100 km)  COMB (L/100 km)  Combined (L/100 km)\n",
            "544           IONIQ Blue        3.933333         4.033333             3.983333\n",
            "543                IONIQ        4.133333         4.200000             4.166667\n",
            "377  Elantra Hybrid Blue        4.200000         4.400000             4.300000\n",
            "\n",
            "Top Three Lowest Combined Consumption Models with MAE:\n",
            "                   MODEL  Combined (L/100 km)       MAE\n",
            "544           IONIQ Blue             3.983333  0.044444\n",
            "543                IONIQ             4.166667  0.022222\n",
            "377  Elantra Hybrid Blue             4.300000  0.000000\n"
          ]
        },
        {
          "name": "stderr",
          "output_type": "stream",
          "text": [
            "<ipython-input-89-77ea774b0aac>:44: SettingWithCopyWarning: \n",
            "A value is trying to be set on a copy of a slice from a DataFrame.\n",
            "Try using .loc[row_indexer,col_indexer] = value instead\n",
            "\n",
            "See the caveats in the documentation: https://pandas.pydata.org/pandas-docs/stable/user_guide/indexing.html#returning-a-view-versus-a-copy\n",
            "  top_three_lowest_combined['MAE'] = mae_values\n"
          ]
        }
      ],
      "source": [
        "import pandas as pd\n",
        "from sklearn.metrics import mean_absolute_error\n",
        "\n",
        "# Load the dataset\n",
        "data = pd.read_csv(\"Fuel_Consumption_2000-2022.csv\")\n",
        "\n",
        "# Filter the data for the year range 2020-2022\n",
        "filtered_data = data[(data['YEAR'] >= 2020) & (data['YEAR'] <= 2022)]\n",
        "\n",
        "# Select relevant columns\n",
        "FUEL = filtered_data[['YEAR', 'MAKE', 'MODEL', 'HWY (L/100 km)', 'COMB (L/100 km)']]\n",
        "\n",
        "# Group the data by 'MODEL' and calculate the mean HWY (L/100 km) and COMB (L/100 km) for each model\n",
        "model_mean_hwy_comb = FUEL.groupby('MODEL')[['HWY (L/100 km)', 'COMB (L/100 km)']].mean().reset_index()\n",
        "\n",
        "# Calculate the mean of HWY and COMB consumption to find combined mean\n",
        "model_mean_hwy_comb['Combined (L/100 km)'] = (model_mean_hwy_comb['HWY (L/100 km)'] + model_mean_hwy_comb['COMB (L/100 km)']) / 2\n",
        "\n",
        "# Sort the models by combined mean consumption in ascending order\n",
        "model_mean_hwy_comb = model_mean_hwy_comb.sort_values(by='Combined (L/100 km)')\n",
        "\n",
        "# Select the top three models with the lowest combined mean consumption\n",
        "top_three_lowest_combined = model_mean_hwy_comb.head(3)\n",
        "\n",
        "# Display the top three lowest combined consumption models\n",
        "print(\"Top Three Lowest Combined Consumption Models:\")\n",
        "print(top_three_lowest_combined)\n",
        "\n",
        "# Calculate the MAE for each model and the actual data\n",
        "mae_values = []\n",
        "for model in top_three_lowest_combined['MODEL']:\n",
        "    model_data = filtered_data[filtered_data['MODEL'] == model]\n",
        "    y_true_hwy = model_data['HWY (L/100 km)']\n",
        "    y_true_comb = model_data['COMB (L/100 km)']\n",
        "    y_pred_hwy = [model_mean_hwy_comb[model_mean_hwy_comb['MODEL'] == model]['HWY (L/100 km)'].values[0]] * len(y_true_hwy)\n",
        "    y_pred_comb = [model_mean_hwy_comb[model_mean_hwy_comb['MODEL'] == model]['COMB (L/100 km)'].values[0]] * len(y_true_comb)\n",
        "\n",
        "    mae_hwy = mean_absolute_error(y_true_hwy, y_pred_hwy)\n",
        "    mae_comb = mean_absolute_error(y_true_comb, y_pred_comb)\n",
        "    combined_mae = (mae_hwy + mae_comb) / 2\n",
        "    mae_values.append(combined_mae)\n",
        "\n",
        "# Add MAE values to the DataFrame\n",
        "top_three_lowest_combined['MAE'] = mae_values\n",
        "\n",
        "# Display the top three models with the lowest MAE for combined consumption\n",
        "print(\"\\nTop Three Lowest Combined Consumption Models with MAE:\")\n",
        "print(top_three_lowest_combined[['MODEL', 'Combined (L/100 km)', 'MAE']])\n"
      ]
    },
    {
      "cell_type": "markdown",
      "metadata": {
        "id": "nkGOl4DeQdrj"
      },
      "source": [
        "#### Root Mean Square Error"
      ]
    },
    {
      "cell_type": "code",
      "execution_count": null,
      "metadata": {
        "colab": {
          "base_uri": "https://localhost:8080/"
        },
        "id": "M9wAAsL0StRW",
        "outputId": "b93851d4-4d34-42e7-9aca-32b225f12254"
      },
      "outputs": [
        {
          "name": "stdout",
          "output_type": "stream",
          "text": [
            "                   MODEL  HWY (L/100 km)\n",
            "544           IONIQ Blue        3.933333\n",
            "543                IONIQ        4.133333\n",
            "377  Elantra Hybrid Blue        4.200000\n",
            "                   MODEL  HWY (L/100 km)     RMSE\n",
            "544           IONIQ Blue        3.933333  0.04714\n",
            "543                IONIQ        4.133333  0.04714\n",
            "377  Elantra Hybrid Blue        4.200000  0.00000\n"
          ]
        },
        {
          "name": "stderr",
          "output_type": "stream",
          "text": [
            "<ipython-input-42-ec8f16b857b1>:37: SettingWithCopyWarning: \n",
            "A value is trying to be set on a copy of a slice from a DataFrame.\n",
            "Try using .loc[row_indexer,col_indexer] = value instead\n",
            "\n",
            "See the caveats in the documentation: https://pandas.pydata.org/pandas-docs/stable/user_guide/indexing.html#returning-a-view-versus-a-copy\n",
            "  top_three_lowest_hwys['RMSE'] = rmse_values\n"
          ]
        }
      ],
      "source": [
        "import pandas as pd\n",
        "from sklearn.linear_model import LinearRegression\n",
        "from sklearn.metrics import mean_squared_error\n",
        "import numpy as np\n",
        "\n",
        "# Load the dataset\n",
        "data = pd.read_csv(\"Fuel_Consumption_2000-2022.csv\")\n",
        "\n",
        "# Filter the data for the year range 2020-2022\n",
        "filtered_data = data[(data['YEAR'] >= 2020) & (data['YEAR'] <= 2022)]\n",
        "\n",
        "# Select relevant columns\n",
        "FUEL = filtered_data[['MODEL', 'HWY (L/100 km)']]\n",
        "\n",
        "# Group the data by 'MODEL' and calculate the mean HWY (L/100 km) for each model\n",
        "model_mean_hwy = FUEL.groupby('MODEL')['HWY (L/100 km)'].mean().reset_index()\n",
        "\n",
        "# Sort the models by mean HWY (L/100 km) in ascending order\n",
        "model_mean_hwy = model_mean_hwy.sort_values(by='HWY (L/100 km)')\n",
        "\n",
        "# Select the top three models with the lowest mean HWY consumption\n",
        "top_three_lowest_hwys = model_mean_hwy.head(3)\n",
        "\n",
        "# Display the top three lowest HWY consumption models\n",
        "print(top_three_lowest_hwys)\n",
        "\n",
        "# Calculate the RMSE for each model and the actual data\n",
        "rmse_values = []\n",
        "for model in top_three_lowest_hwys['MODEL']:\n",
        "    model_data = filtered_data[filtered_data['MODEL'] == model]\n",
        "    y_true = model_data['HWY (L/100 km)']\n",
        "    y_pred = [model_mean_hwy[model_mean_hwy['MODEL'] == model]['HWY (L/100 km)'].values[0]] * len(y_true)\n",
        "    rmse = np.sqrt(mean_squared_error(y_true, y_pred))\n",
        "    rmse_values.append(rmse)\n",
        "\n",
        "# Add RMSE values to the DataFrame\n",
        "top_three_lowest_hwys['RMSE'] = rmse_values\n",
        "\n",
        "# Display the top three models with the lowest RMSE\n",
        "print(top_three_lowest_hwys)"
      ]
    },
    {
      "cell_type": "markdown",
      "metadata": {
        "id": "ELflGKGAnPVR"
      },
      "source": [
        "**With adding COMB (L/100)**"
      ]
    },
    {
      "cell_type": "code",
      "execution_count": null,
      "metadata": {
        "colab": {
          "base_uri": "https://localhost:8080/"
        },
        "id": "EgehevyUnVOW",
        "outputId": "bb9c92d2-88c3-4979-f92f-f91ffd798a74"
      },
      "outputs": [
        {
          "name": "stdout",
          "output_type": "stream",
          "text": [
            "Top Three Lowest Combined Consumption Models:\n",
            "                   MODEL  HWY (L/100 km)  COMB (L/100 km)  Combined (L/100 km)\n",
            "544           IONIQ Blue        3.933333         4.033333             3.983333\n",
            "543                IONIQ        4.133333         4.200000             4.166667\n",
            "377  Elantra Hybrid Blue        4.200000         4.400000             4.300000\n",
            "\n",
            "Top Three Lowest Combined Consumption Models with RMSE:\n",
            "                   MODEL  Combined (L/100 km)      RMSE\n",
            "544           IONIQ Blue             3.983333  0.047140\n",
            "543                IONIQ             4.166667  0.033333\n",
            "377  Elantra Hybrid Blue             4.300000  0.000000\n"
          ]
        },
        {
          "name": "stderr",
          "output_type": "stream",
          "text": [
            "<ipython-input-90-6fbd931b3679>:45: SettingWithCopyWarning: \n",
            "A value is trying to be set on a copy of a slice from a DataFrame.\n",
            "Try using .loc[row_indexer,col_indexer] = value instead\n",
            "\n",
            "See the caveats in the documentation: https://pandas.pydata.org/pandas-docs/stable/user_guide/indexing.html#returning-a-view-versus-a-copy\n",
            "  top_three_lowest_combined['RMSE'] = rmse_values\n"
          ]
        }
      ],
      "source": [
        "import pandas as pd\n",
        "from sklearn.metrics import mean_squared_error\n",
        "import numpy as np\n",
        "\n",
        "# Load the dataset\n",
        "data = pd.read_csv(\"Fuel_Consumption_2000-2022.csv\")\n",
        "\n",
        "# Filter the data for the year range 2020-2022\n",
        "filtered_data = data[(data['YEAR'] >= 2020) & (data['YEAR'] <= 2022)]\n",
        "\n",
        "# Select relevant columns\n",
        "FUEL = filtered_data[['MODEL', 'HWY (L/100 km)', 'COMB (L/100 km)']]\n",
        "\n",
        "# Group the data by 'MODEL' and calculate the mean HWY (L/100 km) and COMB (L/100 km) for each model\n",
        "model_mean_hwy_comb = FUEL.groupby('MODEL')[['HWY (L/100 km)', 'COMB (L/100 km)']].mean().reset_index()\n",
        "\n",
        "# Calculate the mean of HWY and COMB consumption to find combined mean\n",
        "model_mean_hwy_comb['Combined (L/100 km)'] = (model_mean_hwy_comb['HWY (L/100 km)'] + model_mean_hwy_comb['COMB (L/100 km)']) / 2\n",
        "\n",
        "# Sort the models by combined mean consumption in ascending order\n",
        "model_mean_hwy_comb = model_mean_hwy_comb.sort_values(by='Combined (L/100 km)')\n",
        "\n",
        "# Select the top three models with the lowest combined mean consumption\n",
        "top_three_lowest_combined = model_mean_hwy_comb.head(3)\n",
        "\n",
        "# Display the top three lowest combined consumption models\n",
        "print(\"Top Three Lowest Combined Consumption Models:\")\n",
        "print(top_three_lowest_combined)\n",
        "\n",
        "# Calculate the RMSE for each model and the actual data\n",
        "rmse_values = []\n",
        "for model in top_three_lowest_combined['MODEL']:\n",
        "    model_data = filtered_data[filtered_data['MODEL'] == model]\n",
        "    y_true_hwy = model_data['HWY (L/100 km)']\n",
        "    y_true_comb = model_data['COMB (L/100 km)']\n",
        "    y_pred_hwy = [model_mean_hwy_comb[model_mean_hwy_comb['MODEL'] == model]['HWY (L/100 km)'].values[0]] * len(y_true_hwy)\n",
        "    y_pred_comb = [model_mean_hwy_comb[model_mean_hwy_comb['MODEL'] == model]['COMB (L/100 km)'].values[0]] * len(y_true_comb)\n",
        "\n",
        "    rmse_hwy = np.sqrt(mean_squared_error(y_true_hwy, y_pred_hwy))\n",
        "    rmse_comb = np.sqrt(mean_squared_error(y_true_comb, y_pred_comb))\n",
        "    combined_rmse = np.sqrt((rmse_hwy ** 2 + rmse_comb ** 2) / 2)\n",
        "    rmse_values.append(combined_rmse)\n",
        "\n",
        "# Add RMSE values to the DataFrame\n",
        "top_three_lowest_combined['RMSE'] = rmse_values\n",
        "\n",
        "# Display the top three models with the lowest RMSE for combined consumption\n",
        "print(\"\\nTop Three Lowest Combined Consumption Models with RMSE:\")\n",
        "print(top_three_lowest_combined[['MODEL', 'Combined (L/100 km)', 'RMSE']])\n"
      ]
    },
    {
      "cell_type": "markdown",
      "metadata": {
        "id": "JFa6iRE7QiCT"
      },
      "source": [
        "#### R-squared"
      ]
    },
    {
      "cell_type": "code",
      "execution_count": null,
      "metadata": {
        "colab": {
          "base_uri": "https://localhost:8080/"
        },
        "id": "bK0REB5ZQnhm",
        "outputId": "a20d108f-386c-4249-b6fa-41ae79c65fc8"
      },
      "outputs": [
        {
          "name": "stdout",
          "output_type": "stream",
          "text": [
            "                   MODEL  HWY (L/100 km)\n",
            "544           IONIQ Blue        3.933333\n",
            "543                IONIQ        4.133333\n",
            "377  Elantra Hybrid Blue        4.200000\n",
            "                   MODEL  HWY (L/100 km)   R²\n",
            "544           IONIQ Blue        3.933333  1.0\n",
            "543                IONIQ        4.133333  1.0\n",
            "377  Elantra Hybrid Blue        4.200000  1.0\n"
          ]
        },
        {
          "name": "stderr",
          "output_type": "stream",
          "text": [
            "<ipython-input-43-72e2b8e3e52c>:38: SettingWithCopyWarning: \n",
            "A value is trying to be set on a copy of a slice from a DataFrame.\n",
            "Try using .loc[row_indexer,col_indexer] = value instead\n",
            "\n",
            "See the caveats in the documentation: https://pandas.pydata.org/pandas-docs/stable/user_guide/indexing.html#returning-a-view-versus-a-copy\n",
            "  top_three_lowest_hwys['R²'] = r2_values\n"
          ]
        }
      ],
      "source": [
        "import pandas as pd\n",
        "from sklearn.linear_model import LinearRegression\n",
        "from sklearn.metrics import r2_score\n",
        "\n",
        "# Load the dataset\n",
        "data = pd.read_csv(\"Fuel_Consumption_2000-2022.csv\")\n",
        "\n",
        "# Filter the data for the year range 2020-2022\n",
        "filtered_data = data[(data['YEAR'] >= 2020) & (data['YEAR'] <= 2022)]\n",
        "\n",
        "# Select relevant columns\n",
        "FUEL = filtered_data[['MODEL', 'HWY (L/100 km)']]\n",
        "\n",
        "# Group the data by 'MODEL' and calculate the mean HWY (L/100 km) for each model\n",
        "model_mean_hwy = FUEL.groupby('MODEL')['HWY (L/100 km)'].mean().reset_index()\n",
        "\n",
        "# Sort the models by mean HWY (L/100 km) in ascending order\n",
        "model_mean_hwy = model_mean_hwy.sort_values(by='HWY (L/100 km)')\n",
        "\n",
        "# Select the top three models with the lowest mean HWY consumption\n",
        "top_three_lowest_hwys = model_mean_hwy.head(3)\n",
        "\n",
        "# Display the top three lowest HWY consumption models\n",
        "print(top_three_lowest_hwys)\n",
        "\n",
        "# Calculate the R² score for each model\n",
        "r2_values = []\n",
        "for model in top_three_lowest_hwys['MODEL']:\n",
        "    model_data = filtered_data[filtered_data['MODEL'] == model]\n",
        "    X = model_data[['HWY (L/100 km)']].values\n",
        "    y = model_data['HWY (L/100 km)'].values\n",
        "    reg = LinearRegression().fit(X, y)\n",
        "    y_pred = reg.predict(X)\n",
        "    r2 = r2_score(y, y_pred)\n",
        "    r2_values.append(r2)\n",
        "\n",
        "# Add R² values to the DataFrame\n",
        "top_three_lowest_hwys['R²'] = r2_values\n",
        "\n",
        "# Display the top three models with the lowest R²\n",
        "print(top_three_lowest_hwys)"
      ]
    },
    {
      "cell_type": "markdown",
      "metadata": {
        "id": "5E_Yxx7xnnJK"
      },
      "source": [
        "**With adding COMB (L/100)**"
      ]
    },
    {
      "cell_type": "code",
      "execution_count": null,
      "metadata": {
        "colab": {
          "base_uri": "https://localhost:8080/"
        },
        "id": "KcPz4L1fnrqi",
        "outputId": "a5abb6ca-8b05-43b5-8147-a37ecd368142"
      },
      "outputs": [
        {
          "name": "stdout",
          "output_type": "stream",
          "text": [
            "Top Three Lowest COMB Consumption Models:\n",
            "                   MODEL  HWY (L/100 km)  COMB (L/100 km)\n",
            "544           IONIQ Blue        3.933333         4.033333\n",
            "543                IONIQ        4.133333         4.200000\n",
            "377  Elantra Hybrid Blue        4.200000         4.400000\n",
            "Top Three Lowest COMB Consumption Models with R²:\n",
            "                   MODEL  COMB (L/100 km)   R²\n",
            "544           IONIQ Blue         4.033333  1.0\n",
            "543                IONIQ         4.200000  1.0\n",
            "377  Elantra Hybrid Blue         4.400000  1.0\n"
          ]
        },
        {
          "name": "stderr",
          "output_type": "stream",
          "text": [
            "<ipython-input-95-9dff7a5d647c>:39: SettingWithCopyWarning: \n",
            "A value is trying to be set on a copy of a slice from a DataFrame.\n",
            "Try using .loc[row_indexer,col_indexer] = value instead\n",
            "\n",
            "See the caveats in the documentation: https://pandas.pydata.org/pandas-docs/stable/user_guide/indexing.html#returning-a-view-versus-a-copy\n",
            "  top_three_lowest_comb['R²'] = r2_values\n"
          ]
        }
      ],
      "source": [
        "import pandas as pd\n",
        "from sklearn.linear_model import LinearRegression\n",
        "from sklearn.metrics import r2_score\n",
        "\n",
        "# Load the dataset\n",
        "data = pd.read_csv(\"Fuel_Consumption_2000-2022.csv\")\n",
        "\n",
        "# Filter the data for the year range 2020-2022\n",
        "filtered_data = data[(data['YEAR'] >= 2020) & (data['YEAR'] <= 2022)]\n",
        "\n",
        "# Select relevant columns\n",
        "FUEL = filtered_data[['MODEL', 'HWY (L/100 km)', 'COMB (L/100 km)']]\n",
        "\n",
        "# Group the data by 'MODEL' and calculate the mean HWY (L/100 km) and COMB (L/100 km) for each model\n",
        "model_mean_hwys_comb = FUEL.groupby('MODEL')[['HWY (L/100 km)', 'COMB (L/100 km)']].mean().reset_index()\n",
        "\n",
        "# Sort the models by mean COMB consumption in ascending order\n",
        "model_mean_hwys_comb = model_mean_hwys_comb.sort_values(by='COMB (L/100 km)')\n",
        "\n",
        "# Select the top three models with the lowest mean COMB consumption\n",
        "top_three_lowest_comb = model_mean_hwys_comb.head(3)\n",
        "\n",
        "# Display the top three lowest COMB consumption models\n",
        "print(\"Top Three Lowest COMB Consumption Models:\")\n",
        "print(top_three_lowest_comb)\n",
        "\n",
        "# Calculate the R² score for each model\n",
        "r2_values = []\n",
        "for model in top_three_lowest_comb['MODEL']:\n",
        "    model_data = filtered_data[filtered_data['MODEL'] == model]\n",
        "    X = model_data[['COMB (L/100 km)']]\n",
        "    y = model_data['COMB (L/100 km)']\n",
        "    reg = LinearRegression().fit(X, y)\n",
        "    y_pred = reg.predict(X)\n",
        "    r2 = r2_score(y, y_pred)\n",
        "    r2_values.append(r2)\n",
        "\n",
        "# Add R² values to the DataFrame\n",
        "top_three_lowest_comb['R²'] = r2_values\n",
        "\n",
        "# Display the top three models with the lowest R²\n",
        "print(\"Top Three Lowest COMB Consumption Models with R²:\")\n",
        "print(top_three_lowest_comb[['MODEL', 'COMB (L/100 km)', 'R²']])\n"
      ]
    },
    {
      "cell_type": "markdown",
      "metadata": {
        "id": "dP_YaonFZnx6"
      },
      "source": [
        "2. Objective: To analyze the best transmission type"
      ]
    },
    {
      "cell_type": "markdown",
      "metadata": {
        "id": "5KxMPYH9Znx6"
      },
      "source": [
        "##### Utilize pattern mining techniques to identify the transmission type of the best fuel-efficient model, providing insights into the transmission preferences of eco-conscious consumers."
      ]
    },
    {
      "cell_type": "code",
      "execution_count": null,
      "metadata": {
        "id": "eTs9W_YMZnx6"
      },
      "outputs": [],
      "source": [
        "import pandas as pd\n",
        "from mlxtend.frequent_patterns import apriori, association_rules\n",
        "from sklearn.cluster import KMeans\n",
        "import matplotlib.pyplot as plt\n",
        "import seaborn as sns"
      ]
    },
    {
      "cell_type": "code",
      "execution_count": null,
      "metadata": {
        "id": "2fnvt6RLZnx7"
      },
      "outputs": [],
      "source": [
        "# Load the dataset\n",
        "data = pd.read_csv('Fuel_Consumption_2000-2022.csv')"
      ]
    },
    {
      "cell_type": "code",
      "execution_count": null,
      "metadata": {
        "id": "_3J7pl6uZnx7"
      },
      "outputs": [],
      "source": [
        "# Identify the Best Fuel-Efficient Model\n",
        "best_model = data.loc[data['COMB (mpg)'].idxmax()]['MAKE']"
      ]
    },
    {
      "cell_type": "code",
      "execution_count": null,
      "metadata": {
        "id": "ZbvEj0P6Znx8"
      },
      "outputs": [],
      "source": [
        "# Filter Data for the Best Model\n",
        "filtered_data_best_model = data[data['MAKE'] == best_model]"
      ]
    },
    {
      "cell_type": "code",
      "execution_count": null,
      "metadata": {
        "id": "yiQFZel1ZnyK"
      },
      "outputs": [],
      "source": [
        "# Select Relevant Columns for Frequent Itemsets\n",
        "selected_columns_frequent = ['TRANSMISSION', 'MAKE']"
      ]
    },
    {
      "cell_type": "code",
      "execution_count": null,
      "metadata": {
        "id": "pyc4H2syZnyK"
      },
      "outputs": [],
      "source": [
        "# Filter the data to include only the selected columns\n",
        "filtered_data_frequent = filtered_data_best_model[selected_columns_frequent]"
      ]
    },
    {
      "cell_type": "code",
      "execution_count": null,
      "metadata": {
        "id": "uMZqju2RZnyK"
      },
      "outputs": [],
      "source": [
        "# Perform one-hot encoding for the selected columns\n",
        "data_encoded_frequent = pd.get_dummies(filtered_data_frequent)"
      ]
    },
    {
      "cell_type": "code",
      "execution_count": null,
      "metadata": {
        "id": "uuDR_tHJZnyL"
      },
      "outputs": [],
      "source": [
        "# Apriori algorithm for frequent itemset mining with a minimum support\n",
        "min_support_threshold = 0.05  # Adjust this threshold as needed\n",
        "frequent_itemsets = apriori(data_encoded_frequent, min_support=min_support_threshold, use_colnames=True)"
      ]
    },
    {
      "cell_type": "code",
      "execution_count": null,
      "metadata": {
        "id": "qbeqKTf2ZnyL",
        "outputId": "5ffad3bb-17e6-43d0-ff71-325bda317a6c"
      },
      "outputs": [
        {
          "name": "stdout",
          "output_type": "stream",
          "text": [
            "Frequent Itemsets:\n",
            "     support                        itemsets\n",
            "0   0.079012               (TRANSMISSION_A4)\n",
            "1   0.320988               (TRANSMISSION_A5)\n",
            "2   0.125926               (TRANSMISSION_AV)\n",
            "3   0.054321              (TRANSMISSION_AV7)\n",
            "4   0.197531               (TRANSMISSION_M5)\n",
            "5   0.140741               (TRANSMISSION_M6)\n",
            "6   1.000000                    (MAKE_HONDA)\n",
            "7   0.079012   (TRANSMISSION_A4, MAKE_HONDA)\n",
            "8   0.320988   (TRANSMISSION_A5, MAKE_HONDA)\n",
            "9   0.125926   (TRANSMISSION_AV, MAKE_HONDA)\n",
            "10  0.054321  (TRANSMISSION_AV7, MAKE_HONDA)\n",
            "11  0.197531   (MAKE_HONDA, TRANSMISSION_M5)\n",
            "12  0.140741   (TRANSMISSION_M6, MAKE_HONDA)\n"
          ]
        }
      ],
      "source": [
        "# Display frequent itemsets\n",
        "print(\"Frequent Itemsets:\")\n",
        "print(frequent_itemsets)"
      ]
    },
    {
      "cell_type": "code",
      "execution_count": null,
      "metadata": {
        "id": "5dftDqGTZnyM"
      },
      "outputs": [],
      "source": [
        "# Generate association rules\n",
        "association_rules_result = association_rules(frequent_itemsets, metric=\"confidence\", min_threshold=0.7)"
      ]
    },
    {
      "cell_type": "code",
      "execution_count": null,
      "metadata": {
        "id": "ACJCy2JuZnyM",
        "outputId": "ffde0e0b-d0c7-497a-ab6a-88c495fa9cbb"
      },
      "outputs": [
        {
          "name": "stdout",
          "output_type": "stream",
          "text": [
            "Association Rules:\n",
            "          antecedents   consequents  antecedent support  consequent support   \n",
            "0   (TRANSMISSION_A4)  (MAKE_HONDA)            0.079012                 1.0  \\\n",
            "1   (TRANSMISSION_A5)  (MAKE_HONDA)            0.320988                 1.0   \n",
            "2   (TRANSMISSION_AV)  (MAKE_HONDA)            0.125926                 1.0   \n",
            "3  (TRANSMISSION_AV7)  (MAKE_HONDA)            0.054321                 1.0   \n",
            "4   (TRANSMISSION_M5)  (MAKE_HONDA)            0.197531                 1.0   \n",
            "5   (TRANSMISSION_M6)  (MAKE_HONDA)            0.140741                 1.0   \n",
            "\n",
            "    support  confidence  lift  leverage  conviction  zhangs_metric  \n",
            "0  0.079012         1.0   1.0       0.0         inf            0.0  \n",
            "1  0.320988         1.0   1.0       0.0         inf            0.0  \n",
            "2  0.125926         1.0   1.0       0.0         inf            0.0  \n",
            "3  0.054321         1.0   1.0       0.0         inf            0.0  \n",
            "4  0.197531         1.0   1.0       0.0         inf            0.0  \n",
            "5  0.140741         1.0   1.0       0.0         inf            0.0  \n"
          ]
        }
      ],
      "source": [
        "# Display association rules\n",
        "print(\"Association Rules:\")\n",
        "print(association_rules_result)"
      ]
    },
    {
      "cell_type": "code",
      "execution_count": null,
      "metadata": {
        "id": "aHbtyWaaZnyM"
      },
      "outputs": [],
      "source": [
        "import seaborn as sns\n",
        "import matplotlib.pyplot as plt"
      ]
    },
    {
      "cell_type": "code",
      "execution_count": null,
      "metadata": {
        "id": "yNabijthZnyN"
      },
      "outputs": [],
      "source": [
        "# Sort the rules by support in descending order\n",
        "association_rules_result = association_rules(frequent_itemsets, metric=\"confidence\", min_threshold=0.7)"
      ]
    },
    {
      "cell_type": "code",
      "execution_count": null,
      "metadata": {
        "id": "aUTSkHrGZnyN",
        "outputId": "c8145c28-dca3-4e86-9073-5f4b9a867bcc"
      },
      "outputs": [
        {
          "data": {
            "image/png": "[encoded data removed]",
            "text/plain": [
              "<Figure size 1000x800 with 1 Axes>"
            ]
          },
          "metadata": {},
          "output_type": "display_data"
        }
      ],
      "source": [
        "# Set up the matplotlib figure\n",
        "plt.figure(figsize=(10, 8))\n",
        "\n",
        "# Plot horizontal bar plot for antecedents, consequents, and support\n",
        "sns.barplot(x='support', y='antecedents', data=association_rules_result, color='blue', label='Antecedents')\n",
        "\n",
        "# Add labels and title\n",
        "plt.xlabel('Support')\n",
        "plt.ylabel('Itemsets')\n",
        "plt.title('Association Rules: TRANSMISSION TYPE, and SUPPORT')\n",
        "\n",
        "# Add legend\n",
        "plt.legend()\n",
        "\n",
        "# Show the plot\n",
        "plt.show()"
      ]
    },
    {
      "cell_type": "markdown",
      "metadata": {
        "id": "M4GH0zO0ZnyO"
      },
      "source": [
        "#### Conclusion"
      ]
    },
    {
      "cell_type": "markdown",
      "metadata": {
        "id": "PSZ4fwMLZnyO"
      },
      "source": [
        "##### The analysis of frequent itemsets reveals that among the transmission types for the best fuel-efficient model, automatic transmission A5 stands out as the most prevalent choice, representing 32.1% of instances. Manual transmissions M5 and M6 also show considerable adoption, with supports of 19.8% and 14.1%, respectively. Automatic transmission with variable ratios (AV) and automatic transmission A4 contribute to the transmission options, each with supports of 12.6% and 7.9%. Automatic transmission AV7, while less common, still plays a role with a support of 5.4%."
      ]
    },
    {
      "cell_type": "markdown",
      "metadata": {
        "id": "VPjVR1TrZnyP"
      },
      "source": [
        "3. Objective : To identify the best fuel consumption vehicle classes and model"
      ]
    },
    {
      "cell_type": "markdown",
      "metadata": {
        "id": "409F3l-MZnyP"
      },
      "source": [
        "##### Use pattern mining techniques together with machine learning to identify lowest fuel consumption for each vehicle class and respective lowest “Make” for the vehicle class."
      ]
    },
    {
      "cell_type": "code",
      "execution_count": null,
      "metadata": {
        "id": "VlUi1Y9FZnyP"
      },
      "outputs": [],
      "source": [
        "import pandas as pd\n",
        "from sklearn.model_selection import train_test_split\n",
        "from sklearn.ensemble import RandomForestRegressor\n",
        "from sklearn.metrics import mean_squared_error\n",
        "from sklearn.preprocessing import LabelEncoder\n",
        "from mlxtend.frequent_patterns import apriori, fpgrowth\n",
        "from mlxtend.preprocessing import TransactionEncoder"
      ]
    },
    {
      "cell_type": "code",
      "execution_count": null,
      "metadata": {
        "id": "-Vf6Z_b8ZnyP"
      },
      "outputs": [],
      "source": [
        "# Load the dataset\n",
        "file_path = \"Fuel_Consumption_2000-2022.csv\"\n",
        "df = pd.read_csv(file_path)"
      ]
    },
    {
      "cell_type": "code",
      "execution_count": null,
      "metadata": {
        "id": "foQ0GsDKZnyQ"
      },
      "outputs": [],
      "source": [
        "# Encode categorical columns using Label Encoding\n",
        "label_encoder = LabelEncoder()\n",
        "df['VEHICLE CLASS_LABEL'] = label_encoder.fit_transform(df['VEHICLE CLASS'])\n",
        "class_mapping = dict(zip(label_encoder.classes_, label_encoder.transform(label_encoder.classes_)))"
      ]
    },
    {
      "cell_type": "code",
      "execution_count": null,
      "metadata": {
        "id": "D78J0kjgZnyQ"
      },
      "outputs": [],
      "source": [
        "# Extract features and target variable\n",
        "X = df[['VEHICLE CLASS_LABEL', 'ENGINE SIZE', 'CYLINDERS']]\n",
        "y = df['COMB (L/100 km)']"
      ]
    },
    {
      "cell_type": "code",
      "execution_count": null,
      "metadata": {
        "id": "CC6JPbAKZnyQ"
      },
      "outputs": [],
      "source": [
        "# Split the dataset into training and testing sets\n",
        "X_train, X_test, y_train, y_test = train_test_split(X, y, test_size=0.2, random_state=42)"
      ]
    },
    {
      "cell_type": "code",
      "execution_count": null,
      "metadata": {
        "id": "6MeISrqoZnyQ",
        "outputId": "f56e2067-04d6-4fcf-b380-9c0c89516d4f"
      },
      "outputs": [
        {
          "data": {
            "text/html": [
              "<style>#sk-container-id-1 {color: black;background-color: white;}#sk-container-id-1 pre{padding: 0;}#sk-container-id-1 div.sk-toggleable {background-color: white;}#sk-container-id-1 label.sk-toggleable__label {cursor: pointer;display: block;width: 100%;margin-bottom: 0;padding: 0.3em;box-sizing: border-box;text-align: center;}#sk-container-id-1 label.sk-toggleable__label-arrow:before {content: \"▸\";float: left;margin-right: 0.25em;color: #696969;}#sk-container-id-1 label.sk-toggleable__label-arrow:hover:before {color: black;}#sk-container-id-1 div.sk-estimator:hover label.sk-toggleable__label-arrow:before {color: black;}#sk-container-id-1 div.sk-toggleable__content {max-height: 0;max-width: 0;overflow: hidden;text-align: left;background-color: #f0f8ff;}#sk-container-id-1 div.sk-toggleable__content pre {margin: 0.2em;color: black;border-radius: 0.25em;background-color: #f0f8ff;}#sk-container-id-1 input.sk-toggleable__control:checked~div.sk-toggleable__content {max-height: 200px;max-width: 100%;overflow: auto;}#sk-container-id-1 input.sk-toggleable__control:checked~label.sk-toggleable__label-arrow:before {content: \"▾\";}#sk-container-id-1 div.sk-estimator input.sk-toggleable__control:checked~label.sk-toggleable__label {background-color: #d4ebff;}#sk-container-id-1 div.sk-label input.sk-toggleable__control:checked~label.sk-toggleable__label {background-color: #d4ebff;}#sk-container-id-1 input.sk-hidden--visually {border: 0;clip: rect(1px 1px 1px 1px);clip: rect(1px, 1px, 1px, 1px);height: 1px;margin: -1px;overflow: hidden;padding: 0;position: absolute;width: 1px;}#sk-container-id-1 div.sk-estimator {font-family: monospace;background-color: #f0f8ff;border: 1px dotted black;border-radius: 0.25em;box-sizing: border-box;margin-bottom: 0.5em;}#sk-container-id-1 div.sk-estimator:hover {background-color: #d4ebff;}#sk-container-id-1 div.sk-parallel-item::after {content: \"\";width: 100%;border-bottom: 1px solid gray;flex-grow: 1;}#sk-container-id-1 div.sk-label:hover label.sk-toggleable__label {background-color: #d4ebff;}#sk-container-id-1 div.sk-serial::before {content: \"\";position: absolute;border-left: 1px solid gray;box-sizing: border-box;top: 0;bottom: 0;left: 50%;z-index: 0;}#sk-container-id-1 div.sk-serial {display: flex;flex-direction: column;align-items: center;background-color: white;padding-right: 0.2em;padding-left: 0.2em;position: relative;}#sk-container-id-1 div.sk-item {position: relative;z-index: 1;}#sk-container-id-1 div.sk-parallel {display: flex;align-items: stretch;justify-content: center;background-color: white;position: relative;}#sk-container-id-1 div.sk-item::before, #sk-container-id-1 div.sk-parallel-item::before {content: \"\";position: absolute;border-left: 1px solid gray;box-sizing: border-box;top: 0;bottom: 0;left: 50%;z-index: -1;}#sk-container-id-1 div.sk-parallel-item {display: flex;flex-direction: column;z-index: 1;position: relative;background-color: white;}#sk-container-id-1 div.sk-parallel-item:first-child::after {align-self: flex-end;width: 50%;}#sk-container-id-1 div.sk-parallel-item:last-child::after {align-self: flex-start;width: 50%;}#sk-container-id-1 div.sk-parallel-item:only-child::after {width: 0;}#sk-container-id-1 div.sk-dashed-wrapped {border: 1px dashed gray;margin: 0 0.4em 0.5em 0.4em;box-sizing: border-box;padding-bottom: 0.4em;background-color: white;}#sk-container-id-1 div.sk-label label {font-family: monospace;font-weight: bold;display: inline-block;line-height: 1.2em;}#sk-container-id-1 div.sk-label-container {text-align: center;}#sk-container-id-1 div.sk-container {/* jupyter's `normalize.less` sets `[hidden] { display: none; }` but bootstrap.min.css set `[hidden] { display: none !important; }` so we also need the `!important` here to be able to override the default hidden behavior on the sphinx rendered scikit-learn.org. See: https://github.com/scikit-learn/scikit-learn/issues/21755 */display: inline-block !important;position: relative;}#sk-container-id-1 div.sk-text-repr-fallback {display: none;}</style><div id=\"sk-container-id-1\" class=\"sk-top-container\"><div class=\"sk-text-repr-fallback\"><pre>RandomForestRegressor(random_state=42)</pre><b>In a Jupyter environment, please rerun this cell to show the HTML representation or trust the notebook. <br />On GitHub, the HTML representation is unable to render, please try loading this page with nbviewer.org.</b></div><div class=\"sk-container\" hidden><div class=\"sk-item\"><div class=\"sk-estimator sk-toggleable\"><input class=\"sk-toggleable__control sk-hidden--visually\" id=\"sk-estimator-id-1\" type=\"checkbox\" checked><label for=\"sk-estimator-id-1\" class=\"sk-toggleable__label sk-toggleable__label-arrow\">RandomForestRegressor</label><div class=\"sk-toggleable__content\"><pre>RandomForestRegressor(random_state=42)</pre></div></div></div></div></div>"
            ],
            "text/plain": [
              "RandomForestRegressor(random_state=42)"
            ]
          },
          "execution_count": 6,
          "metadata": {},
          "output_type": "execute_result"
        }
      ],
      "source": [
        "# Train a RandomForestRegressor\n",
        "model = RandomForestRegressor(n_estimators=100, random_state=42)\n",
        "model.fit(X_train, y_train)"
      ]
    },
    {
      "cell_type": "code",
      "execution_count": null,
      "metadata": {
        "id": "bATwidAYZnyQ"
      },
      "outputs": [],
      "source": [
        "# Make predictions on the test set\n",
        "y_pred = model.predict(X_test)"
      ]
    },
    {
      "cell_type": "code",
      "execution_count": null,
      "metadata": {
        "id": "qK5rIFDtZnyR",
        "outputId": "c3ffc32f-1a5d-4af8-836e-de064d7356de"
      },
      "outputs": [
        {
          "name": "stdout",
          "output_type": "stream",
          "text": [
            "Mean Squared Error: 1.7122540539188944\n"
          ]
        }
      ],
      "source": [
        "# Evaluate the model\n",
        "mse = mean_squared_error(y_test, y_pred)\n",
        "print(f\"Mean Squared Error: {mse}\")"
      ]
    },
    {
      "cell_type": "code",
      "execution_count": null,
      "metadata": {
        "id": "2MC9OBrgZnyR"
      },
      "outputs": [],
      "source": [
        "# Extracting transactions for Apriori and FP-growth\n",
        "transactions = df.groupby('VEHICLE CLASS')['MAKE'].apply(list).reset_index(name='MAKES')"
      ]
    },
    {
      "cell_type": "code",
      "execution_count": null,
      "metadata": {
        "id": "_jiOtAVRZnyR"
      },
      "outputs": [],
      "source": [
        "# Apply Apriori algorithm\n",
        "te = TransactionEncoder()\n",
        "te_ary = te.fit(transactions['MAKES']).transform(transactions['MAKES'])\n",
        "df_apriori = pd.DataFrame(te_ary, columns=te.columns_)\n",
        "frequent_itemsets_apriori = apriori(df_apriori, min_support=0.2, use_colnames=True)"
      ]
    },
    {
      "cell_type": "code",
      "execution_count": null,
      "metadata": {
        "id": "3W7C7he0ZnyR"
      },
      "outputs": [],
      "source": [
        "# Apply FP-growth algorithm\n",
        "frequent_itemsets_fpgrowth = fpgrowth(df_apriori, min_support=0.2, use_colnames=True)"
      ]
    },
    {
      "cell_type": "code",
      "execution_count": null,
      "metadata": {
        "id": "qyoIhDFwZnyR",
        "outputId": "a48e6ec3-2393-4c74-bdcb-fb110aaccb1f"
      },
      "outputs": [
        {
          "name": "stdout",
          "output_type": "stream",
          "text": [
            "\n",
            "Frequent Itemsets using Apriori:\n",
            "      support                                           itemsets\n",
            "0     0.34375                                             (AUDI)\n",
            "1     0.28125                                             (Audi)\n",
            "2     0.59375                                              (BMW)\n",
            "3     0.21875                                            (BUICK)\n",
            "4     0.28125                                         (CADILLAC)\n",
            "...       ...                                                ...\n",
            "5999  0.21875  (AUDI, HONDA, MERCEDES-BENZ, VOLKSWAGEN, BMW, ...\n",
            "6000  0.21875  (AUDI, HONDA, LEXUS, MERCEDES-BENZ, VOLKSWAGEN...\n",
            "6001  0.21875  (AUDI, HONDA, LEXUS, MERCEDES-BENZ, VOLKSWAGEN...\n",
            "6002  0.21875  (HONDA, LEXUS, MERCEDES-BENZ, VOLKSWAGEN, BMW,...\n",
            "6003  0.21875  (AUDI, HONDA, LEXUS, MERCEDES-BENZ, VOLKSWAGEN...\n",
            "\n",
            "[6004 rows x 2 columns]\n",
            "\n",
            "Frequent Itemsets using FP-growth:\n",
            "      support                    itemsets\n",
            "0     0.59375                       (BMW)\n",
            "1     0.46875                 (CHEVROLET)\n",
            "2     0.46875                      (FORD)\n",
            "3     0.40625                    (TOYOTA)\n",
            "4     0.40625                    (NISSAN)\n",
            "...       ...                         ...\n",
            "5999  0.21875  (CHEVROLET, FORD, LINCOLN)\n",
            "6000  0.21875                 (BMW, FIAT)\n",
            "6001  0.21875                 (FORD, GMC)\n",
            "6002  0.21875            (CHEVROLET, GMC)\n",
            "6003  0.21875      (CHEVROLET, FORD, GMC)\n",
            "\n",
            "[6004 rows x 2 columns]\n"
          ]
        }
      ],
      "source": [
        "# Display the results\n",
        "print(\"\\nFrequent Itemsets using Apriori:\")\n",
        "print(frequent_itemsets_apriori)\n",
        "\n",
        "print(\"\\nFrequent Itemsets using FP-growth:\")\n",
        "print(frequent_itemsets_fpgrowth)"
      ]
    },
    {
      "cell_type": "code",
      "execution_count": null,
      "metadata": {
        "id": "pQj6xB4ZZnyS"
      },
      "outputs": [],
      "source": [
        "# Extracting average fuel consumption for each vehicle class\n",
        "average_fuel_consumption = df.groupby('VEHICLE CLASS')['COMB (L/100 km)'].mean().sort_values()"
      ]
    },
    {
      "cell_type": "code",
      "execution_count": null,
      "metadata": {
        "id": "0SectseSZnyS"
      },
      "outputs": [],
      "source": [
        "lowest_average_fuel_consumption = average_fuel_consumption[0];\n",
        "lowest_fuel_consumption_class = \"\";\n",
        "lowest_fuel_consumption_make = \"\";"
      ]
    },
    {
      "cell_type": "code",
      "execution_count": null,
      "metadata": {
        "id": "nd04Za2CZnyS"
      },
      "outputs": [],
      "source": [
        "# Find the lowest fuel consumption \"MAKE\" for each vehicle class\n",
        "lowest_make_for_class = df.loc[df.groupby('VEHICLE CLASS')['COMB (L/100 km)'].idxmin()][['VEHICLE CLASS', 'MAKE']]"
      ]
    },
    {
      "cell_type": "code",
      "execution_count": null,
      "metadata": {
        "id": "Pr5u7xhbZnyS",
        "outputId": "25743b6e-d7dc-4abc-9537-a17972de1b90"
      },
      "outputs": [
        {
          "name": "stdout",
          "output_type": "stream",
          "text": [
            "\n",
            "Lowest Fuel Consumption Make for Each Vehicle Class:\n",
            "COMPACT: 9.18 L/100 km - Lowest Make: TOYOTA (Apriori Support: 0.41, FP-growth Support: 0.41)\n",
            "Compact: 9.14 L/100 km - Lowest Make: Toyota (Apriori Support: 0.31, FP-growth Support: 0.31)\n",
            "FULL-SIZE: 11.61 L/100 km - Lowest Make: HYUNDAI (Apriori Support: 0.25, FP-growth Support: 0.25)\n",
            "Full-size: 11.09 L/100 km - Lowest Make: Hyundai (Apriori Support: 0.00, FP-growth Support: 0.00)\n",
            "MID-SIZE: 9.79 L/100 km - Lowest Make: TOYOTA (Apriori Support: 0.41, FP-growth Support: 0.41)\n",
            "MINICOMPACT: 10.05 L/100 km - Lowest Make: SCION (Apriori Support: 0.00, FP-growth Support: 0.00)\n",
            "MINIVAN: 11.50 L/100 km - Lowest Make: MAZDA (Apriori Support: 0.31, FP-growth Support: 0.31)\n",
            "Mid-size: 9.59 L/100 km - Lowest Make: Toyota (Apriori Support: 0.31, FP-growth Support: 0.31)\n",
            "Minicompact: 10.92 L/100 km - Lowest Make: MINI (Apriori Support: 0.28, FP-growth Support: 0.28)\n",
            "Minivan: 10.96 L/100 km - Lowest Make: Toyota (Apriori Support: 0.31, FP-growth Support: 0.31)\n",
            "PICKUP TRUCK - SMALL: 11.40 L/100 km - Lowest Make: FORD (Apriori Support: 0.47, FP-growth Support: 0.47)\n",
            "PICKUP TRUCK - STANDARD: 13.91 L/100 km - Lowest Make: FORD (Apriori Support: 0.47, FP-growth Support: 0.47)\n",
            "Pickup truck: Small: 11.56 L/100 km - Lowest Make: Ford (Apriori Support: 0.34, FP-growth Support: 0.34)\n",
            "Pickup truck: Standard: 13.47 L/100 km - Lowest Make: Chevrolet (Apriori Support: 0.34, FP-growth Support: 0.34)\n",
            "SPECIAL PURPOSE VEHICLE: 10.30 L/100 km - Lowest Make: NISSAN (Apriori Support: 0.41, FP-growth Support: 0.41)\n",
            "STATION WAGON - MID-SIZE: 9.90 L/100 km - Lowest Make: TOYOTA (Apriori Support: 0.41, FP-growth Support: 0.41)\n",
            "STATION WAGON - SMALL: 8.83 L/100 km - Lowest Make: KIA (Apriori Support: 0.28, FP-growth Support: 0.28)\n",
            "SUBCOMPACT: 9.91 L/100 km - Lowest Make: HONDA (Apriori Support: 0.34, FP-growth Support: 0.34)\n",
            "SUV: 12.08 L/100 km - Lowest Make: FORD (Apriori Support: 0.47, FP-growth Support: 0.47)\n",
            "SUV - SMALL: 9.96 L/100 km - Lowest Make: SUBARU (Apriori Support: 0.25, FP-growth Support: 0.25)\n",
            "SUV - STANDARD: 13.37 L/100 km - Lowest Make: TOYOTA (Apriori Support: 0.41, FP-growth Support: 0.41)\n",
            "SUV: Small: 9.94 L/100 km - Lowest Make: Ford (Apriori Support: 0.34, FP-growth Support: 0.34)\n",
            "SUV: Standard: 13.17 L/100 km - Lowest Make: Toyota (Apriori Support: 0.31, FP-growth Support: 0.31)\n",
            "Special purpose vehicle: 10.70 L/100 km - Lowest Make: Ford (Apriori Support: 0.34, FP-growth Support: 0.34)\n",
            "Station wagon: Mid-size: 11.42 L/100 km - Lowest Make: Toyota (Apriori Support: 0.31, FP-growth Support: 0.31)\n",
            "Station wagon: Small: 8.23 L/100 km - Lowest Make: Kia (Apriori Support: 0.00, FP-growth Support: 0.00)\n",
            "Subcompact: 10.63 L/100 km - Lowest Make: Chevrolet (Apriori Support: 0.34, FP-growth Support: 0.34)\n",
            "TWO-SEATER: 11.58 L/100 km - Lowest Make: HONDA (Apriori Support: 0.34, FP-growth Support: 0.34)\n",
            "Two-seater: 12.67 L/100 km - Lowest Make: FIAT (Apriori Support: 0.25, FP-growth Support: 0.25)\n",
            "VAN - CARGO: 15.50 L/100 km - Lowest Make: FORD (Apriori Support: 0.47, FP-growth Support: 0.47)\n",
            "VAN - PASSENGER: 17.03 L/100 km - Lowest Make: CHEVROLET (Apriori Support: 0.47, FP-growth Support: 0.47)\n",
            "Van: Passenger: 16.41 L/100 km - Lowest Make: Ford (Apriori Support: 0.34, FP-growth Support: 0.34)\n",
            "\n",
            "Lowest fuel efficient vehicle class: Station wagon: Small (lowest make: Kia)\n"
          ]
        }
      ],
      "source": [
        "# Display the result with vehicle class names and the lowest fuel consumption make\n",
        "print(\"\\nLowest Fuel Consumption Make for Each Vehicle Class:\")\n",
        "for _, row in lowest_make_for_class.iterrows():\n",
        "    class_name = row['VEHICLE CLASS']\n",
        "    make = row['MAKE']\n",
        "    avg_fuel_consumption = average_fuel_consumption[class_name]\n",
        "    if avg_fuel_consumption == lowest_average_fuel_consumption:\n",
        "      lowest_fuel_consumption_class = class_name\n",
        "      lowest_fuel_consumption_make = make\n",
        "\n",
        "    # Find support value for the corresponding vehicle class in frequent_itemsets_apriori\n",
        "    support_apriori = frequent_itemsets_apriori[frequent_itemsets_apriori['itemsets'] == frozenset([make])]['support'].values\n",
        "    support_apriori = support_apriori[0] if len(support_apriori) > 0 else 0.0\n",
        "\n",
        "    # Find support value for the corresponding vehicle class in frequent_itemsets_fpgrowth\n",
        "    support_fpgrowth = frequent_itemsets_fpgrowth[frequent_itemsets_fpgrowth['itemsets'] == frozenset([make])]['support'].values\n",
        "    support_fpgrowth = support_fpgrowth[0] if len(support_fpgrowth) > 0 else 0.0\n",
        "\n",
        "    print(f\"{class_name}: {avg_fuel_consumption:.2f} L/100 km - Lowest Make: {make} (Apriori Support: {support_apriori:.2f}, FP-growth Support: {support_fpgrowth:.2f})\")\n",
        "print()\n",
        "print(f\"Lowest fuel efficient vehicle class: {lowest_fuel_consumption_class} (lowest make: {lowest_fuel_consumption_make})\")"
      ]
    },
    {
      "cell_type": "markdown",
      "metadata": {
        "id": "_IP03ytmZnyS"
      },
      "source": [
        "4. Objective : To explore manufacturer trends"
      ]
    },
    {
      "cell_type": "markdown",
      "metadata": {
        "id": "ibmczzKNZnyS"
      },
      "source": [
        "#### Apply clustering to identify patterns in manufacturers' fuel efficiency and determine whether specific manufacturers consistently produce fuel-efficient model or if there are shifts in manufacturers' fuel efficiency over time"
      ]
    },
    {
      "cell_type": "code",
      "execution_count": 2,
      "metadata": {
        "id": "BA-r8h2UZnyT"
      },
      "outputs": [],
      "source": [
        "import pandas as pd\n",
        "import numpy as np\n",
        "\n",
        "dataset = pd.read_csv('/content/Fuel_Consumption_2000-2022.csv')"
      ]
    },
    {
      "cell_type": "markdown",
      "metadata": {
        "id": "7Vu5_YFyZnyT"
      },
      "source": [
        "Data Preparation"
      ]
    },
    {
      "cell_type": "code",
      "execution_count": 3,
      "metadata": {
        "colab": {
          "base_uri": "https://localhost:8080/"
        },
        "id": "_VOttpP2ZnyU",
        "outputId": "780e4cb6-e9ac-4844-fc90-103d03a5100d"
      },
      "outputs": [
        {
          "output_type": "stream",
          "name": "stderr",
          "text": [
            "<ipython-input-3-d7045ab1ed68>:9: FutureWarning: In a future version of pandas all arguments of DataFrame.any and Series.any will be keyword-only.\n",
            "  selected_data = selected_data[~selected_data.isin([np.nan, np.inf, -np.inf]).any(1)]  # Remove rows with inf values\n"
          ]
        }
      ],
      "source": [
        "# Isolate relevant columns\n",
        "selected_columns = ['YEAR', 'MAKE', 'FUEL', 'FUEL CONSUMPTION']\n",
        "\n",
        "# Create a new DataFrame with selected columns\n",
        "selected_data = dataset[selected_columns]\n",
        "\n",
        "# Clean the data\n",
        "selected_data = selected_data.dropna()  # Drop rows with missing values\n",
        "selected_data = selected_data[~selected_data.isin([np.nan, np.inf, -np.inf]).any(1)]  # Remove rows with inf values\n"
      ]
    },
    {
      "cell_type": "markdown",
      "metadata": {
        "id": "GvRNMhPQZnyU"
      },
      "source": [
        "Clustering and Interpretation"
      ]
    },
    {
      "cell_type": "code",
      "execution_count": 4,
      "metadata": {
        "id": "6XIIkjVTZnyW"
      },
      "outputs": [],
      "source": [
        "from sklearn.preprocessing import StandardScaler\n",
        "\n",
        "# Feature selection (if necessary)\n",
        "selected_features = selected_data[['FUEL CONSUMPTION']]\n",
        "\n",
        "# Standardization\n",
        "scaler = StandardScaler()\n",
        "standardized_data = scaler.fit_transform(selected_features)\n"
      ]
    },
    {
      "cell_type": "code",
      "execution_count": 5,
      "metadata": {
        "colab": {
          "base_uri": "https://localhost:8080/"
        },
        "id": "Qin4Nh7dZnyX",
        "outputId": "f96363a7-14e6-47fa-81cf-41a40011dd97"
      },
      "outputs": [
        {
          "output_type": "stream",
          "name": "stdout",
          "text": [
            "First few rows of standardized data:\n",
            "   Standardized_FUEL_CONSUMPTION\n",
            "0                      -1.017879\n",
            "1                      -1.217826\n",
            "2                      -0.160961\n",
            "3                       0.181806\n",
            "4                      -0.789367\n"
          ]
        }
      ],
      "source": [
        "print(\"First few rows of standardized data:\")\n",
        "print(pd.DataFrame(standardized_data, columns=['Standardized_FUEL_CONSUMPTION']).head())\n"
      ]
    },
    {
      "cell_type": "code",
      "execution_count": 6,
      "metadata": {
        "colab": {
          "base_uri": "https://localhost:8080/",
          "height": 1000
        },
        "id": "UrhvMG8BZnyY",
        "outputId": "314dbb6a-1f6d-4a4a-8a46-db9c48632c24"
      },
      "outputs": [
        {
          "output_type": "stream",
          "name": "stderr",
          "text": [
            "/usr/local/lib/python3.10/dist-packages/sklearn/cluster/_kmeans.py:870: FutureWarning: The default value of `n_init` will change from 10 to 'auto' in 1.4. Set the value of `n_init` explicitly to suppress the warning\n",
            "  warnings.warn(\n",
            "/usr/local/lib/python3.10/dist-packages/sklearn/cluster/_kmeans.py:870: FutureWarning: The default value of `n_init` will change from 10 to 'auto' in 1.4. Set the value of `n_init` explicitly to suppress the warning\n",
            "  warnings.warn(\n",
            "/usr/local/lib/python3.10/dist-packages/sklearn/cluster/_kmeans.py:870: FutureWarning: The default value of `n_init` will change from 10 to 'auto' in 1.4. Set the value of `n_init` explicitly to suppress the warning\n",
            "  warnings.warn(\n",
            "/usr/local/lib/python3.10/dist-packages/sklearn/cluster/_kmeans.py:870: FutureWarning: The default value of `n_init` will change from 10 to 'auto' in 1.4. Set the value of `n_init` explicitly to suppress the warning\n",
            "  warnings.warn(\n",
            "/usr/local/lib/python3.10/dist-packages/sklearn/cluster/_kmeans.py:870: FutureWarning: The default value of `n_init` will change from 10 to 'auto' in 1.4. Set the value of `n_init` explicitly to suppress the warning\n",
            "  warnings.warn(\n",
            "/usr/local/lib/python3.10/dist-packages/sklearn/cluster/_kmeans.py:870: FutureWarning: The default value of `n_init` will change from 10 to 'auto' in 1.4. Set the value of `n_init` explicitly to suppress the warning\n",
            "  warnings.warn(\n",
            "/usr/local/lib/python3.10/dist-packages/sklearn/cluster/_kmeans.py:870: FutureWarning: The default value of `n_init` will change from 10 to 'auto' in 1.4. Set the value of `n_init` explicitly to suppress the warning\n",
            "  warnings.warn(\n",
            "/usr/local/lib/python3.10/dist-packages/sklearn/cluster/_kmeans.py:870: FutureWarning: The default value of `n_init` will change from 10 to 'auto' in 1.4. Set the value of `n_init` explicitly to suppress the warning\n",
            "  warnings.warn(\n",
            "/usr/local/lib/python3.10/dist-packages/sklearn/cluster/_kmeans.py:870: FutureWarning: The default value of `n_init` will change from 10 to 'auto' in 1.4. Set the value of `n_init` explicitly to suppress the warning\n",
            "  warnings.warn(\n",
            "/usr/local/lib/python3.10/dist-packages/sklearn/cluster/_kmeans.py:870: FutureWarning: The default value of `n_init` will change from 10 to 'auto' in 1.4. Set the value of `n_init` explicitly to suppress the warning\n",
            "  warnings.warn(\n",
            "/usr/local/lib/python3.10/dist-packages/sklearn/cluster/_kmeans.py:870: FutureWarning: The default value of `n_init` will change from 10 to 'auto' in 1.4. Set the value of `n_init` explicitly to suppress the warning\n",
            "  warnings.warn(\n",
            "/usr/local/lib/python3.10/dist-packages/sklearn/cluster/_kmeans.py:870: FutureWarning: The default value of `n_init` will change from 10 to 'auto' in 1.4. Set the value of `n_init` explicitly to suppress the warning\n",
            "  warnings.warn(\n",
            "/usr/local/lib/python3.10/dist-packages/sklearn/cluster/_kmeans.py:870: FutureWarning: The default value of `n_init` will change from 10 to 'auto' in 1.4. Set the value of `n_init` explicitly to suppress the warning\n",
            "  warnings.warn(\n",
            "/usr/local/lib/python3.10/dist-packages/sklearn/cluster/_kmeans.py:870: FutureWarning: The default value of `n_init` will change from 10 to 'auto' in 1.4. Set the value of `n_init` explicitly to suppress the warning\n",
            "  warnings.warn(\n",
            "/usr/local/lib/python3.10/dist-packages/sklearn/cluster/_kmeans.py:870: FutureWarning: The default value of `n_init` will change from 10 to 'auto' in 1.4. Set the value of `n_init` explicitly to suppress the warning\n",
            "  warnings.warn(\n",
            "/usr/local/lib/python3.10/dist-packages/sklearn/cluster/_kmeans.py:870: FutureWarning: The default value of `n_init` will change from 10 to 'auto' in 1.4. Set the value of `n_init` explicitly to suppress the warning\n",
            "  warnings.warn(\n",
            "/usr/local/lib/python3.10/dist-packages/sklearn/cluster/_kmeans.py:870: FutureWarning: The default value of `n_init` will change from 10 to 'auto' in 1.4. Set the value of `n_init` explicitly to suppress the warning\n",
            "  warnings.warn(\n",
            "/usr/local/lib/python3.10/dist-packages/sklearn/cluster/_kmeans.py:870: FutureWarning: The default value of `n_init` will change from 10 to 'auto' in 1.4. Set the value of `n_init` explicitly to suppress the warning\n",
            "  warnings.warn(\n"
          ]
        },
        {
          "output_type": "display_data",
          "data": {
            "text/plain": [
              "<Figure size 640x480 with 1 Axes>"
            ],
            "image/png": "[encoded data removed]"
          },
          "metadata": {}
        }
      ],
      "source": [
        "from sklearn.cluster import KMeans\n",
        "from sklearn.metrics import silhouette_score\n",
        "import matplotlib.pyplot as plt\n",
        "\n",
        "# Try different values of k\n",
        "k_values = range(2, 20)\n",
        "silhouette_scores = []\n",
        "\n",
        "for k in k_values:\n",
        "    kmeans = KMeans(n_clusters=k,random_state=42)\n",
        "    cluster_labels = kmeans.fit_predict(standardized_data)\n",
        "    silhouette_scores.append(silhouette_score(standardized_data, cluster_labels))\n",
        "\n",
        "# Plot silhouette scores\n",
        "plt.plot(k_values, silhouette_scores, marker='o')\n",
        "plt.xlabel('Number of Clusters (k)')\n",
        "plt.ylabel('Silhouette Score')\n",
        "plt.title('Silhouette Analysis for Optimal k')\n",
        "plt.show()\n",
        "\n"
      ]
    },
    {
      "cell_type": "markdown",
      "metadata": {
        "id": "fVRfTcH0ZnyZ"
      },
      "source": [
        "By looking at the above chart Most number of clusters is 2"
      ]
    },
    {
      "cell_type": "code",
      "execution_count": 7,
      "metadata": {
        "colab": {
          "base_uri": "https://localhost:8080/",
          "height": 548
        },
        "id": "_KVbSKwfZnya",
        "outputId": "cb667575-50e2-4f9e-b89e-533a46b6763c"
      },
      "outputs": [
        {
          "output_type": "stream",
          "name": "stderr",
          "text": [
            "/usr/local/lib/python3.10/dist-packages/sklearn/cluster/_kmeans.py:870: FutureWarning: The default value of `n_init` will change from 10 to 'auto' in 1.4. Set the value of `n_init` explicitly to suppress the warning\n",
            "  warnings.warn(\n",
            "<ipython-input-7-ace895f4dfb5>:13: FutureWarning: The default value of numeric_only in DataFrameGroupBy.mean is deprecated. In a future version, numeric_only will default to False. Either specify numeric_only or select only columns which should be valid for the function.\n",
            "  cluster_summary = selected_data.groupby(['Cluster', 'MAKE']).mean()\n"
          ]
        },
        {
          "output_type": "execute_result",
          "data": {
            "text/plain": [
              "                             YEAR  FUEL CONSUMPTION\n",
              "Cluster MAKE                                       \n",
              "0       acura         2011.142857         10.731169\n",
              "        alfa romeo    2019.176471         10.444118\n",
              "        aston martin  2020.222222         13.000000\n",
              "        audi          2012.170213         11.379869\n",
              "        bmw           2011.452703         11.510714\n",
              "...                           ...               ...\n",
              "1       subaru        2018.000000         14.100000\n",
              "        suzuki        2006.333333         14.044444\n",
              "        toyota        2010.489247         15.403763\n",
              "        volkswagen    2008.325581         15.076744\n",
              "        volvo         2008.225806         14.609677\n",
              "\n",
              "[91 rows x 2 columns]"
            ],
            "text/html": [
              "\n",
              "  <div id=\"df-8459233e-8f12-4da3-a17f-fc5fd3f2b1cd\" class=\"colab-df-container\">\n",
              "    <div>\n",
              "<style scoped>\n",
              "    .dataframe tbody tr th:only-of-type {\n",
              "        vertical-align: middle;\n",
              "    }\n",
              "\n",
              "    .dataframe tbody tr th {\n",
              "        vertical-align: top;\n",
              "    }\n",
              "\n",
              "    .dataframe thead th {\n",
              "        text-align: right;\n",
              "    }\n",
              "</style>\n",
              "<table border=\"1\" class=\"dataframe\">\n",
              "  <thead>\n",
              "    <tr style=\"text-align: right;\">\n",
              "      <th></th>\n",
              "      <th></th>\n",
              "      <th>YEAR</th>\n",
              "      <th>FUEL CONSUMPTION</th>\n",
              "    </tr>\n",
              "    <tr>\n",
              "      <th>Cluster</th>\n",
              "      <th>MAKE</th>\n",
              "      <th></th>\n",
              "      <th></th>\n",
              "    </tr>\n",
              "  </thead>\n",
              "  <tbody>\n",
              "    <tr>\n",
              "      <th rowspan=\"5\" valign=\"top\">0</th>\n",
              "      <th>acura</th>\n",
              "      <td>2011.142857</td>\n",
              "      <td>10.731169</td>\n",
              "    </tr>\n",
              "    <tr>\n",
              "      <th>alfa romeo</th>\n",
              "      <td>2019.176471</td>\n",
              "      <td>10.444118</td>\n",
              "    </tr>\n",
              "    <tr>\n",
              "      <th>aston martin</th>\n",
              "      <td>2020.222222</td>\n",
              "      <td>13.000000</td>\n",
              "    </tr>\n",
              "    <tr>\n",
              "      <th>audi</th>\n",
              "      <td>2012.170213</td>\n",
              "      <td>11.379869</td>\n",
              "    </tr>\n",
              "    <tr>\n",
              "      <th>bmw</th>\n",
              "      <td>2011.452703</td>\n",
              "      <td>11.510714</td>\n",
              "    </tr>\n",
              "    <tr>\n",
              "      <th>...</th>\n",
              "      <th>...</th>\n",
              "      <td>...</td>\n",
              "      <td>...</td>\n",
              "    </tr>\n",
              "    <tr>\n",
              "      <th rowspan=\"5\" valign=\"top\">1</th>\n",
              "      <th>subaru</th>\n",
              "      <td>2018.000000</td>\n",
              "      <td>14.100000</td>\n",
              "    </tr>\n",
              "    <tr>\n",
              "      <th>suzuki</th>\n",
              "      <td>2006.333333</td>\n",
              "      <td>14.044444</td>\n",
              "    </tr>\n",
              "    <tr>\n",
              "      <th>toyota</th>\n",
              "      <td>2010.489247</td>\n",
              "      <td>15.403763</td>\n",
              "    </tr>\n",
              "    <tr>\n",
              "      <th>volkswagen</th>\n",
              "      <td>2008.325581</td>\n",
              "      <td>15.076744</td>\n",
              "    </tr>\n",
              "    <tr>\n",
              "      <th>volvo</th>\n",
              "      <td>2008.225806</td>\n",
              "      <td>14.609677</td>\n",
              "    </tr>\n",
              "  </tbody>\n",
              "</table>\n",
              "<p>91 rows × 2 columns</p>\n",
              "</div>\n",
              "    <div class=\"colab-df-buttons\">\n",
              "\n",
              "  <div class=\"colab-df-container\">\n",
              "    <button class=\"colab-df-convert\" onclick=\"convertToInteractive('df-8459233e-8f12-4da3-a17f-fc5fd3f2b1cd')\"\n",
              "            title=\"Convert this dataframe to an interactive table.\"\n",
              "            style=\"display:none;\">\n",
              "\n",
              "  <svg xmlns=\"http://www.w3.org/2000/svg\" height=\"24px\" viewBox=\"0 -960 960 960\">\n",
              "    <path d=\"M120-120v-720h720v720H120Zm60-500h600v-160H180v160Zm220 220h160v-160H400v160Zm0 220h160v-160H400v160ZM180-400h160v-160H180v160Zm440 0h160v-160H620v160ZM180-180h160v-160H180v160Zm440 0h160v-160H620v160Z\"/>\n",
              "  </svg>\n",
              "    </button>\n",
              "\n",
              "  <style>\n",
              "    .colab-df-container {\n",
              "      display:flex;\n",
              "      gap: 12px;\n",
              "    }\n",
              "\n",
              "    .colab-df-convert {\n",
              "      background-color: #E8F0FE;\n",
              "      border: none;\n",
              "      border-radius: 50%;\n",
              "      cursor: pointer;\n",
              "      display: none;\n",
              "      fill: #1967D2;\n",
              "      height: 32px;\n",
              "      padding: 0 0 0 0;\n",
              "      width: 32px;\n",
              "    }\n",
              "\n",
              "    .colab-df-convert:hover {\n",
              "      background-color: #E2EBFA;\n",
              "      box-shadow: 0px 1px 2px rgba(60, 64, 67, 0.3), 0px 1px 3px 1px rgba(60, 64, 67, 0.15);\n",
              "      fill: #174EA6;\n",
              "    }\n",
              "\n",
              "    .colab-df-buttons div {\n",
              "      margin-bottom: 4px;\n",
              "    }\n",
              "\n",
              "    [theme=dark] .colab-df-convert {\n",
              "      background-color: #3B4455;\n",
              "      fill: #D2E3FC;\n",
              "    }\n",
              "\n",
              "    [theme=dark] .colab-df-convert:hover {\n",
              "      background-color: #434B5C;\n",
              "      box-shadow: 0px 1px 3px 1px rgba(0, 0, 0, 0.15);\n",
              "      filter: drop-shadow(0px 1px 2px rgba(0, 0, 0, 0.3));\n",
              "      fill: #FFFFFF;\n",
              "    }\n",
              "  </style>\n",
              "\n",
              "    <script>\n",
              "      const buttonEl =\n",
              "        document.querySelector('#df-8459233e-8f12-4da3-a17f-fc5fd3f2b1cd button.colab-df-convert');\n",
              "      buttonEl.style.display =\n",
              "        google.colab.kernel.accessAllowed ? 'block' : 'none';\n",
              "\n",
              "      async function convertToInteractive(key) {\n",
              "        const element = document.querySelector('#df-8459233e-8f12-4da3-a17f-fc5fd3f2b1cd');\n",
              "        const dataTable =\n",
              "          await google.colab.kernel.invokeFunction('convertToInteractive',\n",
              "                                                    [key], {});\n",
              "        if (!dataTable) return;\n",
              "\n",
              "        const docLinkHtml = 'Like what you see? Visit the ' +\n",
              "          '<a target=\"_blank\" href=https://colab.research.google.com/notebooks/data_table.ipynb>data table notebook</a>'\n",
              "          + ' to learn more about interactive tables.';\n",
              "        element.innerHTML = '';\n",
              "        dataTable['output_type'] = 'display_data';\n",
              "        await google.colab.output.renderOutput(dataTable, element);\n",
              "        const docLink = document.createElement('div');\n",
              "        docLink.innerHTML = docLinkHtml;\n",
              "        element.appendChild(docLink);\n",
              "      }\n",
              "    </script>\n",
              "  </div>\n",
              "\n",
              "\n",
              "<div id=\"df-7e697ef2-0ab1-45cf-a9ba-d5efaf57e689\">\n",
              "  <button class=\"colab-df-quickchart\" onclick=\"quickchart('df-7e697ef2-0ab1-45cf-a9ba-d5efaf57e689')\"\n",
              "            title=\"Suggest charts\"\n",
              "            style=\"display:none;\">\n",
              "\n",
              "<svg xmlns=\"http://www.w3.org/2000/svg\" height=\"24px\"viewBox=\"0 0 24 24\"\n",
              "     width=\"24px\">\n",
              "    <g>\n",
              "        <path d=\"M19 3H5c-1.1 0-2 .9-2 2v14c0 1.1.9 2 2 2h14c1.1 0 2-.9 2-2V5c0-1.1-.9-2-2-2zM9 17H7v-7h2v7zm4 0h-2V7h2v10zm4 0h-2v-4h2v4z\"/>\n",
              "    </g>\n",
              "</svg>\n",
              "  </button>\n",
              "\n",
              "<style>\n",
              "  .colab-df-quickchart {\n",
              "      --bg-color: #E8F0FE;\n",
              "      --fill-color: #1967D2;\n",
              "      --hover-bg-color: #E2EBFA;\n",
              "      --hover-fill-color: #174EA6;\n",
              "      --disabled-fill-color: #AAA;\n",
              "      --disabled-bg-color: #DDD;\n",
              "  }\n",
              "\n",
              "  [theme=dark] .colab-df-quickchart {\n",
              "      --bg-color: #3B4455;\n",
              "      --fill-color: #D2E3FC;\n",
              "      --hover-bg-color: #434B5C;\n",
              "      --hover-fill-color: #FFFFFF;\n",
              "      --disabled-bg-color: #3B4455;\n",
              "      --disabled-fill-color: #666;\n",
              "  }\n",
              "\n",
              "  .colab-df-quickchart {\n",
              "    background-color: var(--bg-color);\n",
              "    border: none;\n",
              "    border-radius: 50%;\n",
              "    cursor: pointer;\n",
              "    display: none;\n",
              "    fill: var(--fill-color);\n",
              "    height: 32px;\n",
              "    padding: 0;\n",
              "    width: 32px;\n",
              "  }\n",
              "\n",
              "  .colab-df-quickchart:hover {\n",
              "    background-color: var(--hover-bg-color);\n",
              "    box-shadow: 0 1px 2px rgba(60, 64, 67, 0.3), 0 1px 3px 1px rgba(60, 64, 67, 0.15);\n",
              "    fill: var(--button-hover-fill-color);\n",
              "  }\n",
              "\n",
              "  .colab-df-quickchart-complete:disabled,\n",
              "  .colab-df-quickchart-complete:disabled:hover {\n",
              "    background-color: var(--disabled-bg-color);\n",
              "    fill: var(--disabled-fill-color);\n",
              "    box-shadow: none;\n",
              "  }\n",
              "\n",
              "  .colab-df-spinner {\n",
              "    border: 2px solid var(--fill-color);\n",
              "    border-color: transparent;\n",
              "    border-bottom-color: var(--fill-color);\n",
              "    animation:\n",
              "      spin 1s steps(1) infinite;\n",
              "  }\n",
              "\n",
              "  @keyframes spin {\n",
              "    0% {\n",
              "      border-color: transparent;\n",
              "      border-bottom-color: var(--fill-color);\n",
              "      border-left-color: var(--fill-color);\n",
              "    }\n",
              "    20% {\n",
              "      border-color: transparent;\n",
              "      border-left-color: var(--fill-color);\n",
              "      border-top-color: var(--fill-color);\n",
              "    }\n",
              "    30% {\n",
              "      border-color: transparent;\n",
              "      border-left-color: var(--fill-color);\n",
              "      border-top-color: var(--fill-color);\n",
              "      border-right-color: var(--fill-color);\n",
              "    }\n",
              "    40% {\n",
              "      border-color: transparent;\n",
              "      border-right-color: var(--fill-color);\n",
              "      border-top-color: var(--fill-color);\n",
              "    }\n",
              "    60% {\n",
              "      border-color: transparent;\n",
              "      border-right-color: var(--fill-color);\n",
              "    }\n",
              "    80% {\n",
              "      border-color: transparent;\n",
              "      border-right-color: var(--fill-color);\n",
              "      border-bottom-color: var(--fill-color);\n",
              "    }\n",
              "    90% {\n",
              "      border-color: transparent;\n",
              "      border-bottom-color: var(--fill-color);\n",
              "    }\n",
              "  }\n",
              "</style>\n",
              "\n",
              "  <script>\n",
              "    async function quickchart(key) {\n",
              "      const quickchartButtonEl =\n",
              "        document.querySelector('#' + key + ' button');\n",
              "      quickchartButtonEl.disabled = true;  // To prevent multiple clicks.\n",
              "      quickchartButtonEl.classList.add('colab-df-spinner');\n",
              "      try {\n",
              "        const charts = await google.colab.kernel.invokeFunction(\n",
              "            'suggestCharts', [key], {});\n",
              "      } catch (error) {\n",
              "        console.error('Error during call to suggestCharts:', error);\n",
              "      }\n",
              "      quickchartButtonEl.classList.remove('colab-df-spinner');\n",
              "      quickchartButtonEl.classList.add('colab-df-quickchart-complete');\n",
              "    }\n",
              "    (() => {\n",
              "      let quickchartButtonEl =\n",
              "        document.querySelector('#df-7e697ef2-0ab1-45cf-a9ba-d5efaf57e689 button');\n",
              "      quickchartButtonEl.style.display =\n",
              "        google.colab.kernel.accessAllowed ? 'block' : 'none';\n",
              "    })();\n",
              "  </script>\n",
              "</div>\n",
              "    </div>\n",
              "  </div>\n"
            ]
          },
          "metadata": {},
          "execution_count": 7
        }
      ],
      "source": [
        "# Convert 'MAKE' column to lowercase\n",
        "selected_data['MAKE'] = selected_data['MAKE'].str.lower()\n",
        "\n",
        "# Clustering Technique: Using K-Means clustering\n",
        "k = 2  # Choose the number of clusters (adjust as needed)\n",
        "kmeans = KMeans(n_clusters=k, random_state=42)\n",
        "cluster_labels = kmeans.fit_predict(standardized_data)\n",
        "\n",
        "# Assign cluster labels to the original dataset\n",
        "selected_data['Cluster'] = cluster_labels\n",
        "\n",
        "# Group by clusters and manufacturer to identify trends\n",
        "cluster_summary = selected_data.groupby(['Cluster', 'MAKE']).mean()\n",
        "\n",
        "cluster_summary\n"
      ]
    },
    {
      "cell_type": "code",
      "source": [
        "\n",
        "# Visualize cluster trends - Box plot of fuel consumption by cluster\n",
        "import seaborn as sns\n",
        "plt.figure(figsize=(10, 6))\n",
        "sns.boxplot(x='Cluster', y='FUEL CONSUMPTION', data=selected_data)\n",
        "plt.xlabel('Cluster')\n",
        "plt.ylabel('Fuel Consumption')\n",
        "plt.title('Fuel Efficiency Clusters')\n",
        "plt.show()\n"
      ],
      "metadata": {
        "colab": {
          "base_uri": "https://localhost:8080/",
          "height": 564
        },
        "id": "chvrM6P6bIE_",
        "outputId": "e5eb1117-dc0d-464a-af45-60556e140070"
      },
      "execution_count": 8,
      "outputs": [
        {
          "output_type": "display_data",
          "data": {
            "text/plain": [
              "<Figure size 1000x600 with 1 Axes>"
            ],
            "image/png": "[encoded data removed]"
          },
          "metadata": {}
        }
      ]
    },
    {
      "cell_type": "markdown",
      "source": [
        "Trend Analysis for Specific Manufacturers:(for most common brands)"
      ],
      "metadata": {
        "id": "hADDkVenbavf"
      }
    },
    {
      "cell_type": "code",
      "source": [
        "manufacturers_to_analyze = ['toyota','audi','bmw','honda'] # put some popular barnds\n",
        "\n",
        "# Filter data for selected manufacturers\n",
        "selected_manufacturers_data = selected_data[selected_data['MAKE'].isin(manufacturers_to_analyze)]\n",
        "\n",
        "# Line plot of fuel consumption trends over years for selected manufacturers\n",
        "plt.figure(figsize=(10, 6))\n",
        "for manufacturer in manufacturers_to_analyze:\n",
        "    manufacturer_data = selected_manufacturers_data[selected_manufacturers_data['MAKE'] == manufacturer]\n",
        "    plt.plot(manufacturer_data['YEAR'], manufacturer_data['FUEL CONSUMPTION'], label=manufacturer)\n",
        "\n",
        "plt.xlabel('Year')\n",
        "plt.ylabel('Fuel Consumption')\n",
        "plt.title('Fuel Consumption Trends for Selected Manufacturers')\n",
        "plt.legend()\n",
        "plt.show()"
      ],
      "metadata": {
        "colab": {
          "base_uri": "https://localhost:8080/",
          "height": 564
        },
        "id": "NRBB5i0jbdjo",
        "outputId": "745151c2-b195-4ba5-c2c3-1e8f840d2c7b"
      },
      "execution_count": 9,
      "outputs": [
        {
          "output_type": "display_data",
          "data": {
            "text/plain": [
              "<Figure size 1000x600 with 1 Axes>"
            ],
            "image/png": "[encoded data removed]"
          },
          "metadata": {}
        }
      ]
    },
    {
      "cell_type": "markdown",
      "source": [
        "Comparison of Mean Fuel Efficiency across Manufacturers:"
      ],
      "metadata": {
        "id": "-hCWRV91bkzx"
      }
    },
    {
      "cell_type": "code",
      "source": [
        "# Group by manufacturer to compare mean fuel efficiency\n",
        "mean_fuel_efficiency = selected_data.groupby('MAKE')['FUEL CONSUMPTION'].mean().sort_values()\n",
        "\n",
        "# Bar plot of mean fuel efficiency across manufacturers\n",
        "plt.figure(figsize=(10, 6))\n",
        "mean_fuel_efficiency.plot(kind='bar')\n",
        "plt.xlabel('Manufacturer')\n",
        "plt.ylabel('Mean Fuel Consumption')\n",
        "plt.title('Mean Fuel Efficiency across Manufacturers')\n",
        "plt.show()\n"
      ],
      "metadata": {
        "colab": {
          "base_uri": "https://localhost:8080/",
          "height": 657
        },
        "id": "KF-Kc1nabmHs",
        "outputId": "ee4265a3-ded9-465b-bac4-b2bdbb5352bf"
      },
      "execution_count": 10,
      "outputs": [
        {
          "output_type": "display_data",
          "data": {
            "text/plain": [
              "<Figure size 1000x600 with 1 Axes>"
            ],
            "image/png": "[encoded data removed]"
          },
          "metadata": {}
        }
      ]
    },
    {
      "cell_type": "markdown",
      "source": [
        "Changes in Fuel Efficiency for Manufacturers across Clusters over Time:"
      ],
      "metadata": {
        "id": "IQ6mNtnZbu1u"
      }
    },
    {
      "cell_type": "code",
      "source": [
        "# Calculate changes in fuel efficiency for manufacturers across clusters over time\n",
        "cluster_yearly_mean = selected_data.groupby(['Cluster', 'MAKE', 'YEAR'])['FUEL CONSUMPTION'].mean().reset_index()\n",
        "cluster_yearly_mean['Fuel_Efficiency_Change'] = cluster_yearly_mean.groupby(['Cluster', 'MAKE'])['FUEL CONSUMPTION'].diff()\n",
        "\n",
        "# Line plot of fuel efficiency changes over time for manufacturers in different clusters\n",
        "plt.figure(figsize=(12, 8))\n",
        "for cluster_num in cluster_yearly_mean['Cluster'].unique():\n",
        "    cluster_data = cluster_yearly_mean[cluster_yearly_mean['Cluster'] == cluster_num]\n",
        "    for manufacturer in manufacturers_to_analyze:\n",
        "        manufacturer_data = cluster_data[cluster_data['MAKE'] == manufacturer]\n",
        "        plt.plot(manufacturer_data['YEAR'], manufacturer_data['Fuel_Efficiency_Change'], label=f\"Cluster {cluster_num}, {manufacturer}\")\n",
        "\n",
        "plt.xlabel('Year')\n",
        "plt.ylabel('Fuel Efficiency Change')\n",
        "plt.title('Fuel Efficiency Changes over Time for Selected Manufacturers in Different Clusters')\n",
        "plt.legend()\n",
        "plt.show()\n"
      ],
      "metadata": {
        "colab": {
          "base_uri": "https://localhost:8080/",
          "height": 718
        },
        "id": "i63w-c4Vbv2e",
        "outputId": "61ddd4ed-8f83-44da-ce33-1620caa1b357"
      },
      "execution_count": 11,
      "outputs": [
        {
          "output_type": "display_data",
          "data": {
            "text/plain": [
              "<Figure size 1200x800 with 1 Axes>"
            ],
            "image/png": "[encoded data removed]"
          },
          "metadata": {}
        }
      ]
    },
    {
      "cell_type": "code",
      "source": [
        "# Find manufacturers with the least and greatest changes in fuel efficiency within each cluster\n",
        "min_changes = cluster_yearly_mean.groupby(['Cluster', 'MAKE'])['Fuel_Efficiency_Change'].min()\n",
        "max_changes = cluster_yearly_mean.groupby(['Cluster', 'MAKE'])['Fuel_Efficiency_Change'].max()\n",
        "\n",
        "# Display the manufacturer with the least and greatest changes in fuel efficiency within each cluster\n",
        "for cluster_num in cluster_yearly_mean['Cluster'].unique():\n",
        "    min_change = min_changes.loc[cluster_num]\n",
        "    max_change = max_changes.loc[cluster_num]\n",
        "\n",
        "    min_manufacturer = min_change.idxmin()\n",
        "    max_manufacturer = max_change.idxmax()\n",
        "\n",
        "    print(f\"Cluster {cluster_num}:\")\n",
        "    print(f\"Manufacturer with the least change: {min_manufacturer} ({min_change[min_manufacturer]:.2f})\")\n",
        "    print(f\"Manufacturer with the greatest change: {max_manufacturer} ({max_change[max_manufacturer]:.2f})\")\n",
        "    print()\n"
      ],
      "metadata": {
        "colab": {
          "base_uri": "https://localhost:8080/"
        },
        "id": "14_7MqN8b2Ug",
        "outputId": "27339a36-72e4-479d-add6-aabd9aa4ede3"
      },
      "execution_count": 12,
      "outputs": [
        {
          "output_type": "stream",
          "name": "stdout",
          "text": [
            "Cluster 0:\n",
            "Manufacturer with the least change: jeep (-2.52)\n",
            "Manufacturer with the greatest change: fiat (1.62)\n",
            "\n",
            "Cluster 1:\n",
            "Manufacturer with the least change: lincoln (-4.58)\n",
            "Manufacturer with the greatest change: cadillac (6.45)\n",
            "\n"
          ]
        }
      ]
    }
  ],
  "metadata": {
    "colab": {
      "provenance": [],
      "toc_visible": true
    },
    "kernelspec": {
      "display_name": "Python 3",
      "name": "python3"
    },
    "language_info": {
      "codemirror_mode": {
        "name": "ipython",
        "version": 3
      },
      "file_extension": ".py",
      "mimetype": "text/x-python",
      "name": "python",
      "nbconvert_exporter": "python",
      "pygments_lexer": "ipython3",
      "version": "3.9.0"
    }
  },
  "nbformat": 4,
  "nbformat_minor": 0
}